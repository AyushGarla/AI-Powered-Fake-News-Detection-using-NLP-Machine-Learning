{
  "cells": [
    {
      "cell_type": "markdown",
      "source": [
<<<<<<< HEAD
        "## Mount Drive"
      ],
      "metadata": {
        "id": "LrVxc59bo-gh"
      },
      "id": "LrVxc59bo-gh"
    },
    {
      "cell_type": "code",
      "source": [
        "from google.colab import drive\n",
        "drive.mount('/content/drive')"
      ],
      "metadata": {
=======
        "# Data Preprocessing for training"
      ],
      "metadata": {
        "id": "VUeh0pcnvJ48"
      },
      "id": "VUeh0pcnvJ48"
    },
    {
      "cell_type": "markdown",
      "source": [
        "## Mount Drive"
      ],
      "metadata": {
        "id": "LrVxc59bo-gh"
      },
      "id": "LrVxc59bo-gh"
    },
    {
      "cell_type": "code",
      "source": [
        "from google.colab import drive\n",
        "drive.mount('/content/drive')"
      ],
      "metadata": {
>>>>>>> e55c210 (added updated files)
        "colab": {
          "base_uri": "https://localhost:8080/"
        },
        "id": "M1lLpaXKo-Fw",
<<<<<<< HEAD
        "outputId": "2053c69a-dc8a-4a34-f80f-7767b30baf5a"
      },
      "id": "M1lLpaXKo-Fw",
      "execution_count": 1,
=======
        "outputId": "c24dbe23-4bfe-44b1-993d-ab87353d4089"
      },
      "id": "M1lLpaXKo-Fw",
      "execution_count": null,
>>>>>>> e55c210 (added updated files)
      "outputs": [
        {
          "output_type": "stream",
          "name": "stdout",
          "text": [
<<<<<<< HEAD
            "Mounted at /content/drive\n"
=======
            "Drive already mounted at /content/drive; to attempt to forcibly remount, call drive.mount(\"/content/drive\", force_remount=True).\n"
>>>>>>> e55c210 (added updated files)
          ]
        }
      ]
    },
    {
      "cell_type": "code",
<<<<<<< HEAD
      "execution_count": 2,
=======
      "execution_count": null,
>>>>>>> e55c210 (added updated files)
      "id": "13924323",
      "metadata": {
        "id": "13924323"
      },
      "outputs": [],
      "source": [
        "# ML and data\n",
        "import pandas as pd\n",
        "from sklearn.model_selection import train_test_split\n",
        "\n",
        "#NLTK preprocessing\n",
        "import re\n",
        "import nltk\n",
        "from nltk.tokenize import word_tokenize\n",
        "from nltk.corpus import stopwords, wordnet\n",
        "from nltk.stem import WordNetLemmatizer\n",
        "from nltk import pos_tag\n",
        "from sklearn.feature_extraction.text import CountVectorizer, TfidfVectorizer\n",
        "\n",
        "# classifier training and evaluation\n",
        "from sklearn.svm import LinearSVC\n",
        "from sklearn.metrics import accuracy_score, f1_score, classification_report, confusion_matrix\n",
        "from sklearn.linear_model import LogisticRegression"
      ]
    },
    {
      "cell_type": "code",
      "source": [
        "# Download NLTK datasets\n",
        "nltk.download('punkt') #\n",
        "nltk.download('stopwords')\n",
        "nltk.download('averaged_perceptron_tagger')\n",
        "nltk.download('averaged_perceptron_tagger_eng')\n",
        "nltk.download('wordnet')\n",
        "nltk.download('punkt_tab')\n",
        "nltk.download('omw-1.4')"
      ],
      "metadata": {
        "colab": {
          "base_uri": "https://localhost:8080/"
        },
        "id": "kJ-_AXeEUnlt",
<<<<<<< HEAD
        "outputId": "26cf94ff-f328-4be8-cbaa-6de475b49623"
      },
      "id": "kJ-_AXeEUnlt",
      "execution_count": 3,
=======
        "outputId": "0e5badab-8032-4734-c9ec-04895b2fe1dc"
      },
      "id": "kJ-_AXeEUnlt",
      "execution_count": null,
>>>>>>> e55c210 (added updated files)
      "outputs": [
        {
          "output_type": "stream",
          "name": "stderr",
          "text": [
            "[nltk_data] Downloading package punkt to /root/nltk_data...\n",
<<<<<<< HEAD
            "[nltk_data]   Unzipping tokenizers/punkt.zip.\n",
            "[nltk_data] Downloading package stopwords to /root/nltk_data...\n",
            "[nltk_data]   Unzipping corpora/stopwords.zip.\n",
            "[nltk_data] Downloading package averaged_perceptron_tagger to\n",
            "[nltk_data]     /root/nltk_data...\n",
            "[nltk_data]   Unzipping taggers/averaged_perceptron_tagger.zip.\n",
            "[nltk_data] Downloading package averaged_perceptron_tagger_eng to\n",
            "[nltk_data]     /root/nltk_data...\n",
            "[nltk_data]   Unzipping taggers/averaged_perceptron_tagger_eng.zip.\n",
            "[nltk_data] Downloading package wordnet to /root/nltk_data...\n",
            "[nltk_data] Downloading package punkt_tab to /root/nltk_data...\n",
            "[nltk_data]   Unzipping tokenizers/punkt_tab.zip.\n",
            "[nltk_data] Downloading package omw-1.4 to /root/nltk_data...\n"
=======
            "[nltk_data]   Package punkt is already up-to-date!\n",
            "[nltk_data] Downloading package stopwords to /root/nltk_data...\n",
            "[nltk_data]   Package stopwords is already up-to-date!\n",
            "[nltk_data] Downloading package averaged_perceptron_tagger to\n",
            "[nltk_data]     /root/nltk_data...\n",
            "[nltk_data]   Package averaged_perceptron_tagger is already up-to-\n",
            "[nltk_data]       date!\n",
            "[nltk_data] Downloading package averaged_perceptron_tagger_eng to\n",
            "[nltk_data]     /root/nltk_data...\n",
            "[nltk_data]   Package averaged_perceptron_tagger_eng is already up-to-\n",
            "[nltk_data]       date!\n",
            "[nltk_data] Downloading package wordnet to /root/nltk_data...\n",
            "[nltk_data]   Package wordnet is already up-to-date!\n",
            "[nltk_data] Downloading package punkt_tab to /root/nltk_data...\n",
            "[nltk_data]   Package punkt_tab is already up-to-date!\n",
            "[nltk_data] Downloading package omw-1.4 to /root/nltk_data...\n",
            "[nltk_data]   Package omw-1.4 is already up-to-date!\n"
>>>>>>> e55c210 (added updated files)
          ]
        },
        {
          "output_type": "execute_result",
          "data": {
            "text/plain": [
              "True"
            ]
          },
          "metadata": {},
          "execution_count": 3
        }
      ]
    },
    {
      "cell_type": "markdown",
      "id": "af5c1cae",
      "metadata": {
        "id": "af5c1cae"
      },
      "source": [
        "## Loading the data"
      ]
    },
    {
      "cell_type": "code",
<<<<<<< HEAD
      "execution_count": 7,
=======
      "execution_count": null,
>>>>>>> e55c210 (added updated files)
      "id": "0a038e1e",
      "metadata": {
        "id": "0a038e1e"
      },
      "outputs": [],
      "source": [
        "data_path = '/content/drive/MyDrive/Ironhack Assignments/NLP Project/dataset/data.csv'\n",
        "data = pd.read_csv(data_path)"
      ]
    },
    {
      "cell_type": "code",
<<<<<<< HEAD
      "execution_count": 8,
=======
      "execution_count": null,
>>>>>>> e55c210 (added updated files)
      "id": "19d3779f",
      "metadata": {
        "colab": {
          "base_uri": "https://localhost:8080/",
          "height": 423
        },
        "id": "19d3779f",
<<<<<<< HEAD
        "outputId": "af1571a9-c042-434e-a861-7fb744c591f2"
=======
        "outputId": "385d77fc-c86a-4ed8-e216-f2e9a0df6a99"
>>>>>>> e55c210 (added updated files)
      },
      "outputs": [
        {
          "output_type": "execute_result",
          "data": {
            "text/plain": [
              "       label                                              title  \\\n",
              "0          1  As U.S. budget fight looms, Republicans flip t...   \n",
              "1          1  U.S. military to accept transgender recruits o...   \n",
              "2          1  Senior U.S. Republican senator: 'Let Mr. Muell...   \n",
              "3          1  FBI Russia probe helped by Australian diplomat...   \n",
              "4          1  Trump wants Postal Service to charge 'much mor...   \n",
              "...      ...                                                ...   \n",
              "39937      0  THIS IS NOT A JOKE! Soros-Linked Group Has Pla...   \n",
              "39938      0  THE SMARTEST WOMAN In Politics: “How Trump Can...   \n",
              "39939      0  BREAKING! SHOCKING VIDEO FROM CHARLOTTE RIOTS:...   \n",
              "39940      0  BREAKING! Charlotte News Station Reports Cops ...   \n",
              "39941      0  BIG MISTAKE! HILLARY JUST Proved To America Sh...   \n",
              "\n",
              "                                                    text       subject  \\\n",
              "0      WASHINGTON (Reuters) - The head of a conservat...  politicsNews   \n",
              "1      WASHINGTON (Reuters) - Transgender people will...  politicsNews   \n",
              "2      WASHINGTON (Reuters) - The special counsel inv...  politicsNews   \n",
              "3      WASHINGTON (Reuters) - Trump campaign adviser ...  politicsNews   \n",
              "4      SEATTLE/WASHINGTON (Reuters) - President Donal...  politicsNews   \n",
              "...                                                  ...           ...   \n",
              "39937  The Left has been organizing for decades, and ...     left-news   \n",
              "39938  Monica Crowley offers some of the most brillia...     left-news   \n",
              "39939  Protest underway in Charlotte:  Things got com...     left-news   \n",
              "39940  Local Charlotte, NC news station WSOCTV is rep...     left-news   \n",
              "39941  Dividing America will be Obama s legacy. Hilla...     left-news   \n",
              "\n",
              "                     date  \n",
              "0      December 31, 2017   \n",
              "1      December 29, 2017   \n",
              "2      December 31, 2017   \n",
              "3      December 30, 2017   \n",
              "4      December 29, 2017   \n",
              "...                   ...  \n",
              "39937        Sep 22, 2016  \n",
              "39938        Sep 22, 2016  \n",
              "39939        Sep 21, 2016  \n",
              "39940        Sep 21, 2016  \n",
              "39941        Sep 21, 2016  \n",
              "\n",
              "[39942 rows x 5 columns]"
            ],
            "text/html": [
              "\n",
<<<<<<< HEAD
              "  <div id=\"df-92bbd75b-51dd-4d73-b4b2-5206eeae0f0a\" class=\"colab-df-container\">\n",
=======
              "  <div id=\"df-d3df3433-168d-4cee-b455-8195edaa1541\" class=\"colab-df-container\">\n",
>>>>>>> e55c210 (added updated files)
              "    <div>\n",
              "<style scoped>\n",
              "    .dataframe tbody tr th:only-of-type {\n",
              "        vertical-align: middle;\n",
              "    }\n",
              "\n",
              "    .dataframe tbody tr th {\n",
              "        vertical-align: top;\n",
              "    }\n",
              "\n",
              "    .dataframe thead th {\n",
              "        text-align: right;\n",
              "    }\n",
              "</style>\n",
              "<table border=\"1\" class=\"dataframe\">\n",
              "  <thead>\n",
              "    <tr style=\"text-align: right;\">\n",
              "      <th></th>\n",
              "      <th>label</th>\n",
              "      <th>title</th>\n",
              "      <th>text</th>\n",
              "      <th>subject</th>\n",
              "      <th>date</th>\n",
              "    </tr>\n",
              "  </thead>\n",
              "  <tbody>\n",
              "    <tr>\n",
              "      <th>0</th>\n",
              "      <td>1</td>\n",
              "      <td>As U.S. budget fight looms, Republicans flip t...</td>\n",
              "      <td>WASHINGTON (Reuters) - The head of a conservat...</td>\n",
              "      <td>politicsNews</td>\n",
              "      <td>December 31, 2017</td>\n",
              "    </tr>\n",
              "    <tr>\n",
              "      <th>1</th>\n",
              "      <td>1</td>\n",
              "      <td>U.S. military to accept transgender recruits o...</td>\n",
              "      <td>WASHINGTON (Reuters) - Transgender people will...</td>\n",
              "      <td>politicsNews</td>\n",
              "      <td>December 29, 2017</td>\n",
              "    </tr>\n",
              "    <tr>\n",
              "      <th>2</th>\n",
              "      <td>1</td>\n",
              "      <td>Senior U.S. Republican senator: 'Let Mr. Muell...</td>\n",
              "      <td>WASHINGTON (Reuters) - The special counsel inv...</td>\n",
              "      <td>politicsNews</td>\n",
              "      <td>December 31, 2017</td>\n",
              "    </tr>\n",
              "    <tr>\n",
              "      <th>3</th>\n",
              "      <td>1</td>\n",
              "      <td>FBI Russia probe helped by Australian diplomat...</td>\n",
              "      <td>WASHINGTON (Reuters) - Trump campaign adviser ...</td>\n",
              "      <td>politicsNews</td>\n",
              "      <td>December 30, 2017</td>\n",
              "    </tr>\n",
              "    <tr>\n",
              "      <th>4</th>\n",
              "      <td>1</td>\n",
              "      <td>Trump wants Postal Service to charge 'much mor...</td>\n",
              "      <td>SEATTLE/WASHINGTON (Reuters) - President Donal...</td>\n",
              "      <td>politicsNews</td>\n",
              "      <td>December 29, 2017</td>\n",
              "    </tr>\n",
              "    <tr>\n",
              "      <th>...</th>\n",
              "      <td>...</td>\n",
              "      <td>...</td>\n",
              "      <td>...</td>\n",
              "      <td>...</td>\n",
              "      <td>...</td>\n",
              "    </tr>\n",
              "    <tr>\n",
              "      <th>39937</th>\n",
              "      <td>0</td>\n",
              "      <td>THIS IS NOT A JOKE! Soros-Linked Group Has Pla...</td>\n",
              "      <td>The Left has been organizing for decades, and ...</td>\n",
              "      <td>left-news</td>\n",
              "      <td>Sep 22, 2016</td>\n",
              "    </tr>\n",
              "    <tr>\n",
              "      <th>39938</th>\n",
              "      <td>0</td>\n",
              "      <td>THE SMARTEST WOMAN In Politics: “How Trump Can...</td>\n",
              "      <td>Monica Crowley offers some of the most brillia...</td>\n",
              "      <td>left-news</td>\n",
              "      <td>Sep 22, 2016</td>\n",
              "    </tr>\n",
              "    <tr>\n",
              "      <th>39939</th>\n",
              "      <td>0</td>\n",
              "      <td>BREAKING! SHOCKING VIDEO FROM CHARLOTTE RIOTS:...</td>\n",
              "      <td>Protest underway in Charlotte:  Things got com...</td>\n",
              "      <td>left-news</td>\n",
              "      <td>Sep 21, 2016</td>\n",
              "    </tr>\n",
              "    <tr>\n",
              "      <th>39940</th>\n",
              "      <td>0</td>\n",
              "      <td>BREAKING! Charlotte News Station Reports Cops ...</td>\n",
              "      <td>Local Charlotte, NC news station WSOCTV is rep...</td>\n",
              "      <td>left-news</td>\n",
              "      <td>Sep 21, 2016</td>\n",
              "    </tr>\n",
              "    <tr>\n",
              "      <th>39941</th>\n",
              "      <td>0</td>\n",
              "      <td>BIG MISTAKE! HILLARY JUST Proved To America Sh...</td>\n",
              "      <td>Dividing America will be Obama s legacy. Hilla...</td>\n",
              "      <td>left-news</td>\n",
              "      <td>Sep 21, 2016</td>\n",
              "    </tr>\n",
              "  </tbody>\n",
              "</table>\n",
              "<p>39942 rows × 5 columns</p>\n",
              "</div>\n",
              "    <div class=\"colab-df-buttons\">\n",
              "\n",
              "  <div class=\"colab-df-container\">\n",
<<<<<<< HEAD
              "    <button class=\"colab-df-convert\" onclick=\"convertToInteractive('df-92bbd75b-51dd-4d73-b4b2-5206eeae0f0a')\"\n",
=======
              "    <button class=\"colab-df-convert\" onclick=\"convertToInteractive('df-d3df3433-168d-4cee-b455-8195edaa1541')\"\n",
>>>>>>> e55c210 (added updated files)
              "            title=\"Convert this dataframe to an interactive table.\"\n",
              "            style=\"display:none;\">\n",
              "\n",
              "  <svg xmlns=\"http://www.w3.org/2000/svg\" height=\"24px\" viewBox=\"0 -960 960 960\">\n",
              "    <path d=\"M120-120v-720h720v720H120Zm60-500h600v-160H180v160Zm220 220h160v-160H400v160Zm0 220h160v-160H400v160ZM180-400h160v-160H180v160Zm440 0h160v-160H620v160ZM180-180h160v-160H180v160Zm440 0h160v-160H620v160Z\"/>\n",
              "  </svg>\n",
              "    </button>\n",
              "\n",
              "  <style>\n",
              "    .colab-df-container {\n",
              "      display:flex;\n",
              "      gap: 12px;\n",
              "    }\n",
              "\n",
              "    .colab-df-convert {\n",
              "      background-color: #E8F0FE;\n",
              "      border: none;\n",
              "      border-radius: 50%;\n",
              "      cursor: pointer;\n",
              "      display: none;\n",
              "      fill: #1967D2;\n",
              "      height: 32px;\n",
              "      padding: 0 0 0 0;\n",
              "      width: 32px;\n",
              "    }\n",
              "\n",
              "    .colab-df-convert:hover {\n",
              "      background-color: #E2EBFA;\n",
              "      box-shadow: 0px 1px 2px rgba(60, 64, 67, 0.3), 0px 1px 3px 1px rgba(60, 64, 67, 0.15);\n",
              "      fill: #174EA6;\n",
              "    }\n",
              "\n",
              "    .colab-df-buttons div {\n",
              "      margin-bottom: 4px;\n",
              "    }\n",
              "\n",
              "    [theme=dark] .colab-df-convert {\n",
              "      background-color: #3B4455;\n",
              "      fill: #D2E3FC;\n",
              "    }\n",
              "\n",
              "    [theme=dark] .colab-df-convert:hover {\n",
              "      background-color: #434B5C;\n",
              "      box-shadow: 0px 1px 3px 1px rgba(0, 0, 0, 0.15);\n",
              "      filter: drop-shadow(0px 1px 2px rgba(0, 0, 0, 0.3));\n",
              "      fill: #FFFFFF;\n",
              "    }\n",
              "  </style>\n",
              "\n",
              "    <script>\n",
              "      const buttonEl =\n",
<<<<<<< HEAD
              "        document.querySelector('#df-92bbd75b-51dd-4d73-b4b2-5206eeae0f0a button.colab-df-convert');\n",
=======
              "        document.querySelector('#df-d3df3433-168d-4cee-b455-8195edaa1541 button.colab-df-convert');\n",
>>>>>>> e55c210 (added updated files)
              "      buttonEl.style.display =\n",
              "        google.colab.kernel.accessAllowed ? 'block' : 'none';\n",
              "\n",
              "      async function convertToInteractive(key) {\n",
<<<<<<< HEAD
              "        const element = document.querySelector('#df-92bbd75b-51dd-4d73-b4b2-5206eeae0f0a');\n",
=======
              "        const element = document.querySelector('#df-d3df3433-168d-4cee-b455-8195edaa1541');\n",
>>>>>>> e55c210 (added updated files)
              "        const dataTable =\n",
              "          await google.colab.kernel.invokeFunction('convertToInteractive',\n",
              "                                                    [key], {});\n",
              "        if (!dataTable) return;\n",
              "\n",
              "        const docLinkHtml = 'Like what you see? Visit the ' +\n",
              "          '<a target=\"_blank\" href=https://colab.research.google.com/notebooks/data_table.ipynb>data table notebook</a>'\n",
              "          + ' to learn more about interactive tables.';\n",
              "        element.innerHTML = '';\n",
              "        dataTable['output_type'] = 'display_data';\n",
              "        await google.colab.output.renderOutput(dataTable, element);\n",
              "        const docLink = document.createElement('div');\n",
              "        docLink.innerHTML = docLinkHtml;\n",
              "        element.appendChild(docLink);\n",
              "      }\n",
              "    </script>\n",
              "  </div>\n",
              "\n",
              "\n",
<<<<<<< HEAD
              "    <div id=\"df-3d15b6e2-7613-44bd-9870-445e282826d0\">\n",
              "      <button class=\"colab-df-quickchart\" onclick=\"quickchart('df-3d15b6e2-7613-44bd-9870-445e282826d0')\"\n",
=======
              "    <div id=\"df-944b8f35-93a0-472a-bcc0-0892bbe7310e\">\n",
              "      <button class=\"colab-df-quickchart\" onclick=\"quickchart('df-944b8f35-93a0-472a-bcc0-0892bbe7310e')\"\n",
>>>>>>> e55c210 (added updated files)
              "                title=\"Suggest charts\"\n",
              "                style=\"display:none;\">\n",
              "\n",
              "<svg xmlns=\"http://www.w3.org/2000/svg\" height=\"24px\"viewBox=\"0 0 24 24\"\n",
              "     width=\"24px\">\n",
              "    <g>\n",
              "        <path d=\"M19 3H5c-1.1 0-2 .9-2 2v14c0 1.1.9 2 2 2h14c1.1 0 2-.9 2-2V5c0-1.1-.9-2-2-2zM9 17H7v-7h2v7zm4 0h-2V7h2v10zm4 0h-2v-4h2v4z\"/>\n",
              "    </g>\n",
              "</svg>\n",
              "      </button>\n",
              "\n",
              "<style>\n",
              "  .colab-df-quickchart {\n",
              "      --bg-color: #E8F0FE;\n",
              "      --fill-color: #1967D2;\n",
              "      --hover-bg-color: #E2EBFA;\n",
              "      --hover-fill-color: #174EA6;\n",
              "      --disabled-fill-color: #AAA;\n",
              "      --disabled-bg-color: #DDD;\n",
              "  }\n",
              "\n",
              "  [theme=dark] .colab-df-quickchart {\n",
              "      --bg-color: #3B4455;\n",
              "      --fill-color: #D2E3FC;\n",
              "      --hover-bg-color: #434B5C;\n",
              "      --hover-fill-color: #FFFFFF;\n",
              "      --disabled-bg-color: #3B4455;\n",
              "      --disabled-fill-color: #666;\n",
              "  }\n",
              "\n",
              "  .colab-df-quickchart {\n",
              "    background-color: var(--bg-color);\n",
              "    border: none;\n",
              "    border-radius: 50%;\n",
              "    cursor: pointer;\n",
              "    display: none;\n",
              "    fill: var(--fill-color);\n",
              "    height: 32px;\n",
              "    padding: 0;\n",
              "    width: 32px;\n",
              "  }\n",
              "\n",
              "  .colab-df-quickchart:hover {\n",
              "    background-color: var(--hover-bg-color);\n",
              "    box-shadow: 0 1px 2px rgba(60, 64, 67, 0.3), 0 1px 3px 1px rgba(60, 64, 67, 0.15);\n",
              "    fill: var(--button-hover-fill-color);\n",
              "  }\n",
              "\n",
              "  .colab-df-quickchart-complete:disabled,\n",
              "  .colab-df-quickchart-complete:disabled:hover {\n",
              "    background-color: var(--disabled-bg-color);\n",
              "    fill: var(--disabled-fill-color);\n",
              "    box-shadow: none;\n",
              "  }\n",
              "\n",
              "  .colab-df-spinner {\n",
              "    border: 2px solid var(--fill-color);\n",
              "    border-color: transparent;\n",
              "    border-bottom-color: var(--fill-color);\n",
              "    animation:\n",
              "      spin 1s steps(1) infinite;\n",
              "  }\n",
              "\n",
              "  @keyframes spin {\n",
              "    0% {\n",
              "      border-color: transparent;\n",
              "      border-bottom-color: var(--fill-color);\n",
              "      border-left-color: var(--fill-color);\n",
              "    }\n",
              "    20% {\n",
              "      border-color: transparent;\n",
              "      border-left-color: var(--fill-color);\n",
              "      border-top-color: var(--fill-color);\n",
              "    }\n",
              "    30% {\n",
              "      border-color: transparent;\n",
              "      border-left-color: var(--fill-color);\n",
              "      border-top-color: var(--fill-color);\n",
              "      border-right-color: var(--fill-color);\n",
              "    }\n",
              "    40% {\n",
              "      border-color: transparent;\n",
              "      border-right-color: var(--fill-color);\n",
              "      border-top-color: var(--fill-color);\n",
              "    }\n",
              "    60% {\n",
              "      border-color: transparent;\n",
              "      border-right-color: var(--fill-color);\n",
              "    }\n",
              "    80% {\n",
              "      border-color: transparent;\n",
              "      border-right-color: var(--fill-color);\n",
              "      border-bottom-color: var(--fill-color);\n",
              "    }\n",
              "    90% {\n",
              "      border-color: transparent;\n",
              "      border-bottom-color: var(--fill-color);\n",
              "    }\n",
              "  }\n",
              "</style>\n",
              "\n",
              "      <script>\n",
              "        async function quickchart(key) {\n",
              "          const quickchartButtonEl =\n",
              "            document.querySelector('#' + key + ' button');\n",
              "          quickchartButtonEl.disabled = true;  // To prevent multiple clicks.\n",
              "          quickchartButtonEl.classList.add('colab-df-spinner');\n",
              "          try {\n",
              "            const charts = await google.colab.kernel.invokeFunction(\n",
              "                'suggestCharts', [key], {});\n",
              "          } catch (error) {\n",
              "            console.error('Error during call to suggestCharts:', error);\n",
              "          }\n",
              "          quickchartButtonEl.classList.remove('colab-df-spinner');\n",
              "          quickchartButtonEl.classList.add('colab-df-quickchart-complete');\n",
              "        }\n",
              "        (() => {\n",
              "          let quickchartButtonEl =\n",
<<<<<<< HEAD
              "            document.querySelector('#df-3d15b6e2-7613-44bd-9870-445e282826d0 button');\n",
=======
              "            document.querySelector('#df-944b8f35-93a0-472a-bcc0-0892bbe7310e button');\n",
>>>>>>> e55c210 (added updated files)
              "          quickchartButtonEl.style.display =\n",
              "            google.colab.kernel.accessAllowed ? 'block' : 'none';\n",
              "        })();\n",
              "      </script>\n",
              "    </div>\n",
              "\n",
<<<<<<< HEAD
              "  <div id=\"id_04cf373a-1727-4e95-a3e3-f3ae78c1738a\">\n",
=======
              "  <div id=\"id_9ee741fb-45af-4de3-b9c9-ca56ac18190d\">\n",
>>>>>>> e55c210 (added updated files)
              "    <style>\n",
              "      .colab-df-generate {\n",
              "        background-color: #E8F0FE;\n",
              "        border: none;\n",
              "        border-radius: 50%;\n",
              "        cursor: pointer;\n",
              "        display: none;\n",
              "        fill: #1967D2;\n",
              "        height: 32px;\n",
              "        padding: 0 0 0 0;\n",
              "        width: 32px;\n",
              "      }\n",
              "\n",
              "      .colab-df-generate:hover {\n",
              "        background-color: #E2EBFA;\n",
              "        box-shadow: 0px 1px 2px rgba(60, 64, 67, 0.3), 0px 1px 3px 1px rgba(60, 64, 67, 0.15);\n",
              "        fill: #174EA6;\n",
              "      }\n",
              "\n",
              "      [theme=dark] .colab-df-generate {\n",
              "        background-color: #3B4455;\n",
              "        fill: #D2E3FC;\n",
              "      }\n",
              "\n",
              "      [theme=dark] .colab-df-generate:hover {\n",
              "        background-color: #434B5C;\n",
              "        box-shadow: 0px 1px 3px 1px rgba(0, 0, 0, 0.15);\n",
              "        filter: drop-shadow(0px 1px 2px rgba(0, 0, 0, 0.3));\n",
              "        fill: #FFFFFF;\n",
              "      }\n",
              "    </style>\n",
              "    <button class=\"colab-df-generate\" onclick=\"generateWithVariable('data')\"\n",
              "            title=\"Generate code using this dataframe.\"\n",
              "            style=\"display:none;\">\n",
              "\n",
              "  <svg xmlns=\"http://www.w3.org/2000/svg\" height=\"24px\"viewBox=\"0 0 24 24\"\n",
              "       width=\"24px\">\n",
              "    <path d=\"M7,19H8.4L18.45,9,17,7.55,7,17.6ZM5,21V16.75L18.45,3.32a2,2,0,0,1,2.83,0l1.4,1.43a1.91,1.91,0,0,1,.58,1.4,1.91,1.91,0,0,1-.58,1.4L9.25,21ZM18.45,9,17,7.55Zm-12,3A5.31,5.31,0,0,0,4.9,8.1,5.31,5.31,0,0,0,1,6.5,5.31,5.31,0,0,0,4.9,4.9,5.31,5.31,0,0,0,6.5,1,5.31,5.31,0,0,0,8.1,4.9,5.31,5.31,0,0,0,12,6.5,5.46,5.46,0,0,0,6.5,12Z\"/>\n",
              "  </svg>\n",
              "    </button>\n",
              "    <script>\n",
              "      (() => {\n",
              "      const buttonEl =\n",
<<<<<<< HEAD
              "        document.querySelector('#id_04cf373a-1727-4e95-a3e3-f3ae78c1738a button.colab-df-generate');\n",
=======
              "        document.querySelector('#id_9ee741fb-45af-4de3-b9c9-ca56ac18190d button.colab-df-generate');\n",
>>>>>>> e55c210 (added updated files)
              "      buttonEl.style.display =\n",
              "        google.colab.kernel.accessAllowed ? 'block' : 'none';\n",
              "\n",
              "      buttonEl.onclick = () => {\n",
              "        google.colab.notebook.generateWithVariable('data');\n",
              "      }\n",
              "      })();\n",
              "    </script>\n",
              "  </div>\n",
              "\n",
              "    </div>\n",
              "  </div>\n"
            ],
            "application/vnd.google.colaboratory.intrinsic+json": {
              "type": "dataframe",
              "variable_name": "data",
              "summary": "{\n  \"name\": \"data\",\n  \"rows\": 39942,\n  \"fields\": [\n    {\n      \"column\": \"label\",\n      \"properties\": {\n        \"dtype\": \"number\",\n        \"std\": 0,\n        \"min\": 0,\n        \"max\": 1,\n        \"num_unique_values\": 2,\n        \"samples\": [\n          0,\n          1\n        ],\n        \"semantic_type\": \"\",\n        \"description\": \"\"\n      }\n    },\n    {\n      \"column\": \"title\",\n      \"properties\": {\n        \"dtype\": \"string\",\n        \"num_unique_values\": 36083,\n        \"samples\": [\n          \"Swedish airport explosive suspect released without charge: prosecutor\",\n          \" Democrats Across The Country Are Figuring Out Ways To FORCE Trump To Release His Tax Returns\"\n        ],\n        \"semantic_type\": \"\",\n        \"description\": \"\"\n      }\n    },\n    {\n      \"column\": \"text\",\n      \"properties\": {\n        \"dtype\": \"string\",\n        \"num_unique_values\": 35977,\n        \"samples\": [\n          \"Rudi gets it! The former mayor of New York speaks out on the horrible Obama foreign policy and how it created ISIS: This did not have to happen if our policies were different.  If President Obama had listened to Senator McCain and Senator Graham and a whole group of other people, and had set up a no-fly zone in Syria five years ago   if we had gone in and worked with the Syrian legitimate rebels  If we had not taken our troops out of Iraq and Afghanistan, ISIS never would have emerged. ISIS is filling a vacuum created by a vacuous foreign policy   ISIS is an Obama creation.  \",\n          \" You re carrying Mexican flags while chanting,  Trump is not my President.  You know that this is America right? ***Language warning***\"\n        ],\n        \"semantic_type\": \"\",\n        \"description\": \"\"\n      }\n    },\n    {\n      \"column\": \"subject\",\n      \"properties\": {\n        \"dtype\": \"category\",\n        \"num_unique_values\": 6,\n        \"samples\": [\n          \"politicsNews\",\n          \"worldnews\"\n        ],\n        \"semantic_type\": \"\",\n        \"description\": \"\"\n      }\n    },\n    {\n      \"column\": \"date\",\n      \"properties\": {\n        \"dtype\": \"category\",\n        \"num_unique_values\": 2392,\n        \"samples\": [\n          \"March 10, 2017\",\n          \"June 16, 2017 \"\n        ],\n        \"semantic_type\": \"\",\n        \"description\": \"\"\n      }\n    }\n  ]\n}"
            }
          },
          "metadata": {},
<<<<<<< HEAD
          "execution_count": 8
=======
          "execution_count": 5
>>>>>>> e55c210 (added updated files)
        }
      ],
      "source": [
        "data"
      ]
    },
    {
      "cell_type": "markdown",
      "id": "7e34f9a7",
      "metadata": {
        "id": "7e34f9a7"
      },
      "source": [
        "## Data Preprocessing 1"
      ]
    },
    {
      "cell_type": "code",
<<<<<<< HEAD
      "execution_count": 9,
=======
      "execution_count": null,
>>>>>>> e55c210 (added updated files)
      "id": "70d9940b",
      "metadata": {
        "colab": {
          "base_uri": "https://localhost:8080/",
          "height": 423
        },
        "id": "70d9940b",
<<<<<<< HEAD
        "outputId": "40661553-1a93-4952-b5f5-fbfceb298391"
=======
        "outputId": "eb679690-9cf2-4d57-91ba-238f0dd9b8c9"
>>>>>>> e55c210 (added updated files)
      },
      "outputs": [
        {
          "output_type": "execute_result",
          "data": {
            "text/plain": [
              "       label                                              title  \\\n",
              "0          1  As U.S. budget fight looms, Republicans flip t...   \n",
              "1          1  U.S. military to accept transgender recruits o...   \n",
              "2          1  Senior U.S. Republican senator: 'Let Mr. Muell...   \n",
              "3          1  FBI Russia probe helped by Australian diplomat...   \n",
              "4          1  Trump wants Postal Service to charge 'much mor...   \n",
              "...      ...                                                ...   \n",
              "39937      0  THIS IS NOT A JOKE! Soros-Linked Group Has Pla...   \n",
              "39938      0  THE SMARTEST WOMAN In Politics: “How Trump Can...   \n",
              "39939      0  BREAKING! SHOCKING VIDEO FROM CHARLOTTE RIOTS:...   \n",
              "39940      0  BREAKING! Charlotte News Station Reports Cops ...   \n",
              "39941      0  BIG MISTAKE! HILLARY JUST Proved To America Sh...   \n",
              "\n",
              "                                                    text  \n",
              "0      WASHINGTON (Reuters) - The head of a conservat...  \n",
              "1      WASHINGTON (Reuters) - Transgender people will...  \n",
              "2      WASHINGTON (Reuters) - The special counsel inv...  \n",
              "3      WASHINGTON (Reuters) - Trump campaign adviser ...  \n",
              "4      SEATTLE/WASHINGTON (Reuters) - President Donal...  \n",
              "...                                                  ...  \n",
              "39937  The Left has been organizing for decades, and ...  \n",
              "39938  Monica Crowley offers some of the most brillia...  \n",
              "39939  Protest underway in Charlotte:  Things got com...  \n",
              "39940  Local Charlotte, NC news station WSOCTV is rep...  \n",
              "39941  Dividing America will be Obama s legacy. Hilla...  \n",
              "\n",
              "[39942 rows x 3 columns]"
            ],
            "text/html": [
              "\n",
<<<<<<< HEAD
              "  <div id=\"df-16644abe-2a24-412e-9a04-5b1830e042e9\" class=\"colab-df-container\">\n",
=======
              "  <div id=\"df-911f3aba-d568-457f-9dd8-b133994d9d3c\" class=\"colab-df-container\">\n",
>>>>>>> e55c210 (added updated files)
              "    <div>\n",
              "<style scoped>\n",
              "    .dataframe tbody tr th:only-of-type {\n",
              "        vertical-align: middle;\n",
              "    }\n",
              "\n",
              "    .dataframe tbody tr th {\n",
              "        vertical-align: top;\n",
              "    }\n",
              "\n",
              "    .dataframe thead th {\n",
              "        text-align: right;\n",
              "    }\n",
              "</style>\n",
              "<table border=\"1\" class=\"dataframe\">\n",
              "  <thead>\n",
              "    <tr style=\"text-align: right;\">\n",
              "      <th></th>\n",
              "      <th>label</th>\n",
              "      <th>title</th>\n",
              "      <th>text</th>\n",
              "    </tr>\n",
              "  </thead>\n",
              "  <tbody>\n",
              "    <tr>\n",
              "      <th>0</th>\n",
              "      <td>1</td>\n",
              "      <td>As U.S. budget fight looms, Republicans flip t...</td>\n",
              "      <td>WASHINGTON (Reuters) - The head of a conservat...</td>\n",
              "    </tr>\n",
              "    <tr>\n",
              "      <th>1</th>\n",
              "      <td>1</td>\n",
              "      <td>U.S. military to accept transgender recruits o...</td>\n",
              "      <td>WASHINGTON (Reuters) - Transgender people will...</td>\n",
              "    </tr>\n",
              "    <tr>\n",
              "      <th>2</th>\n",
              "      <td>1</td>\n",
              "      <td>Senior U.S. Republican senator: 'Let Mr. Muell...</td>\n",
              "      <td>WASHINGTON (Reuters) - The special counsel inv...</td>\n",
              "    </tr>\n",
              "    <tr>\n",
              "      <th>3</th>\n",
              "      <td>1</td>\n",
              "      <td>FBI Russia probe helped by Australian diplomat...</td>\n",
              "      <td>WASHINGTON (Reuters) - Trump campaign adviser ...</td>\n",
              "    </tr>\n",
              "    <tr>\n",
              "      <th>4</th>\n",
              "      <td>1</td>\n",
              "      <td>Trump wants Postal Service to charge 'much mor...</td>\n",
              "      <td>SEATTLE/WASHINGTON (Reuters) - President Donal...</td>\n",
              "    </tr>\n",
              "    <tr>\n",
              "      <th>...</th>\n",
              "      <td>...</td>\n",
              "      <td>...</td>\n",
              "      <td>...</td>\n",
              "    </tr>\n",
              "    <tr>\n",
              "      <th>39937</th>\n",
              "      <td>0</td>\n",
              "      <td>THIS IS NOT A JOKE! Soros-Linked Group Has Pla...</td>\n",
              "      <td>The Left has been organizing for decades, and ...</td>\n",
              "    </tr>\n",
              "    <tr>\n",
              "      <th>39938</th>\n",
              "      <td>0</td>\n",
              "      <td>THE SMARTEST WOMAN In Politics: “How Trump Can...</td>\n",
              "      <td>Monica Crowley offers some of the most brillia...</td>\n",
              "    </tr>\n",
              "    <tr>\n",
              "      <th>39939</th>\n",
              "      <td>0</td>\n",
              "      <td>BREAKING! SHOCKING VIDEO FROM CHARLOTTE RIOTS:...</td>\n",
              "      <td>Protest underway in Charlotte:  Things got com...</td>\n",
              "    </tr>\n",
              "    <tr>\n",
              "      <th>39940</th>\n",
              "      <td>0</td>\n",
              "      <td>BREAKING! Charlotte News Station Reports Cops ...</td>\n",
              "      <td>Local Charlotte, NC news station WSOCTV is rep...</td>\n",
              "    </tr>\n",
              "    <tr>\n",
              "      <th>39941</th>\n",
              "      <td>0</td>\n",
              "      <td>BIG MISTAKE! HILLARY JUST Proved To America Sh...</td>\n",
              "      <td>Dividing America will be Obama s legacy. Hilla...</td>\n",
              "    </tr>\n",
              "  </tbody>\n",
              "</table>\n",
              "<p>39942 rows × 3 columns</p>\n",
              "</div>\n",
              "    <div class=\"colab-df-buttons\">\n",
              "\n",
              "  <div class=\"colab-df-container\">\n",
<<<<<<< HEAD
              "    <button class=\"colab-df-convert\" onclick=\"convertToInteractive('df-16644abe-2a24-412e-9a04-5b1830e042e9')\"\n",
=======
              "    <button class=\"colab-df-convert\" onclick=\"convertToInteractive('df-911f3aba-d568-457f-9dd8-b133994d9d3c')\"\n",
>>>>>>> e55c210 (added updated files)
              "            title=\"Convert this dataframe to an interactive table.\"\n",
              "            style=\"display:none;\">\n",
              "\n",
              "  <svg xmlns=\"http://www.w3.org/2000/svg\" height=\"24px\" viewBox=\"0 -960 960 960\">\n",
              "    <path d=\"M120-120v-720h720v720H120Zm60-500h600v-160H180v160Zm220 220h160v-160H400v160Zm0 220h160v-160H400v160ZM180-400h160v-160H180v160Zm440 0h160v-160H620v160ZM180-180h160v-160H180v160Zm440 0h160v-160H620v160Z\"/>\n",
              "  </svg>\n",
              "    </button>\n",
              "\n",
              "  <style>\n",
              "    .colab-df-container {\n",
              "      display:flex;\n",
              "      gap: 12px;\n",
              "    }\n",
              "\n",
              "    .colab-df-convert {\n",
              "      background-color: #E8F0FE;\n",
              "      border: none;\n",
              "      border-radius: 50%;\n",
              "      cursor: pointer;\n",
              "      display: none;\n",
              "      fill: #1967D2;\n",
              "      height: 32px;\n",
              "      padding: 0 0 0 0;\n",
              "      width: 32px;\n",
              "    }\n",
              "\n",
              "    .colab-df-convert:hover {\n",
              "      background-color: #E2EBFA;\n",
              "      box-shadow: 0px 1px 2px rgba(60, 64, 67, 0.3), 0px 1px 3px 1px rgba(60, 64, 67, 0.15);\n",
              "      fill: #174EA6;\n",
              "    }\n",
              "\n",
              "    .colab-df-buttons div {\n",
              "      margin-bottom: 4px;\n",
              "    }\n",
              "\n",
              "    [theme=dark] .colab-df-convert {\n",
              "      background-color: #3B4455;\n",
              "      fill: #D2E3FC;\n",
              "    }\n",
              "\n",
              "    [theme=dark] .colab-df-convert:hover {\n",
              "      background-color: #434B5C;\n",
              "      box-shadow: 0px 1px 3px 1px rgba(0, 0, 0, 0.15);\n",
              "      filter: drop-shadow(0px 1px 2px rgba(0, 0, 0, 0.3));\n",
              "      fill: #FFFFFF;\n",
              "    }\n",
              "  </style>\n",
              "\n",
              "    <script>\n",
              "      const buttonEl =\n",
<<<<<<< HEAD
              "        document.querySelector('#df-16644abe-2a24-412e-9a04-5b1830e042e9 button.colab-df-convert');\n",
=======
              "        document.querySelector('#df-911f3aba-d568-457f-9dd8-b133994d9d3c button.colab-df-convert');\n",
>>>>>>> e55c210 (added updated files)
              "      buttonEl.style.display =\n",
              "        google.colab.kernel.accessAllowed ? 'block' : 'none';\n",
              "\n",
              "      async function convertToInteractive(key) {\n",
<<<<<<< HEAD
              "        const element = document.querySelector('#df-16644abe-2a24-412e-9a04-5b1830e042e9');\n",
=======
              "        const element = document.querySelector('#df-911f3aba-d568-457f-9dd8-b133994d9d3c');\n",
>>>>>>> e55c210 (added updated files)
              "        const dataTable =\n",
              "          await google.colab.kernel.invokeFunction('convertToInteractive',\n",
              "                                                    [key], {});\n",
              "        if (!dataTable) return;\n",
              "\n",
              "        const docLinkHtml = 'Like what you see? Visit the ' +\n",
              "          '<a target=\"_blank\" href=https://colab.research.google.com/notebooks/data_table.ipynb>data table notebook</a>'\n",
              "          + ' to learn more about interactive tables.';\n",
              "        element.innerHTML = '';\n",
              "        dataTable['output_type'] = 'display_data';\n",
              "        await google.colab.output.renderOutput(dataTable, element);\n",
              "        const docLink = document.createElement('div');\n",
              "        docLink.innerHTML = docLinkHtml;\n",
              "        element.appendChild(docLink);\n",
              "      }\n",
              "    </script>\n",
              "  </div>\n",
              "\n",
              "\n",
<<<<<<< HEAD
              "    <div id=\"df-a92df496-9e33-4e40-8b62-9cace678a2a4\">\n",
              "      <button class=\"colab-df-quickchart\" onclick=\"quickchart('df-a92df496-9e33-4e40-8b62-9cace678a2a4')\"\n",
=======
              "    <div id=\"df-21f89a44-b11e-4458-8baf-00e2acefd15b\">\n",
              "      <button class=\"colab-df-quickchart\" onclick=\"quickchart('df-21f89a44-b11e-4458-8baf-00e2acefd15b')\"\n",
>>>>>>> e55c210 (added updated files)
              "                title=\"Suggest charts\"\n",
              "                style=\"display:none;\">\n",
              "\n",
              "<svg xmlns=\"http://www.w3.org/2000/svg\" height=\"24px\"viewBox=\"0 0 24 24\"\n",
              "     width=\"24px\">\n",
              "    <g>\n",
              "        <path d=\"M19 3H5c-1.1 0-2 .9-2 2v14c0 1.1.9 2 2 2h14c1.1 0 2-.9 2-2V5c0-1.1-.9-2-2-2zM9 17H7v-7h2v7zm4 0h-2V7h2v10zm4 0h-2v-4h2v4z\"/>\n",
              "    </g>\n",
              "</svg>\n",
              "      </button>\n",
              "\n",
              "<style>\n",
              "  .colab-df-quickchart {\n",
              "      --bg-color: #E8F0FE;\n",
              "      --fill-color: #1967D2;\n",
              "      --hover-bg-color: #E2EBFA;\n",
              "      --hover-fill-color: #174EA6;\n",
              "      --disabled-fill-color: #AAA;\n",
              "      --disabled-bg-color: #DDD;\n",
              "  }\n",
              "\n",
              "  [theme=dark] .colab-df-quickchart {\n",
              "      --bg-color: #3B4455;\n",
              "      --fill-color: #D2E3FC;\n",
              "      --hover-bg-color: #434B5C;\n",
              "      --hover-fill-color: #FFFFFF;\n",
              "      --disabled-bg-color: #3B4455;\n",
              "      --disabled-fill-color: #666;\n",
              "  }\n",
              "\n",
              "  .colab-df-quickchart {\n",
              "    background-color: var(--bg-color);\n",
              "    border: none;\n",
              "    border-radius: 50%;\n",
              "    cursor: pointer;\n",
              "    display: none;\n",
              "    fill: var(--fill-color);\n",
              "    height: 32px;\n",
              "    padding: 0;\n",
              "    width: 32px;\n",
              "  }\n",
              "\n",
              "  .colab-df-quickchart:hover {\n",
              "    background-color: var(--hover-bg-color);\n",
              "    box-shadow: 0 1px 2px rgba(60, 64, 67, 0.3), 0 1px 3px 1px rgba(60, 64, 67, 0.15);\n",
              "    fill: var(--button-hover-fill-color);\n",
              "  }\n",
              "\n",
              "  .colab-df-quickchart-complete:disabled,\n",
              "  .colab-df-quickchart-complete:disabled:hover {\n",
              "    background-color: var(--disabled-bg-color);\n",
              "    fill: var(--disabled-fill-color);\n",
              "    box-shadow: none;\n",
              "  }\n",
              "\n",
              "  .colab-df-spinner {\n",
              "    border: 2px solid var(--fill-color);\n",
              "    border-color: transparent;\n",
              "    border-bottom-color: var(--fill-color);\n",
              "    animation:\n",
              "      spin 1s steps(1) infinite;\n",
              "  }\n",
              "\n",
              "  @keyframes spin {\n",
              "    0% {\n",
              "      border-color: transparent;\n",
              "      border-bottom-color: var(--fill-color);\n",
              "      border-left-color: var(--fill-color);\n",
              "    }\n",
              "    20% {\n",
              "      border-color: transparent;\n",
              "      border-left-color: var(--fill-color);\n",
              "      border-top-color: var(--fill-color);\n",
              "    }\n",
              "    30% {\n",
              "      border-color: transparent;\n",
              "      border-left-color: var(--fill-color);\n",
              "      border-top-color: var(--fill-color);\n",
              "      border-right-color: var(--fill-color);\n",
              "    }\n",
              "    40% {\n",
              "      border-color: transparent;\n",
              "      border-right-color: var(--fill-color);\n",
              "      border-top-color: var(--fill-color);\n",
              "    }\n",
              "    60% {\n",
              "      border-color: transparent;\n",
              "      border-right-color: var(--fill-color);\n",
              "    }\n",
              "    80% {\n",
              "      border-color: transparent;\n",
              "      border-right-color: var(--fill-color);\n",
              "      border-bottom-color: var(--fill-color);\n",
              "    }\n",
              "    90% {\n",
              "      border-color: transparent;\n",
              "      border-bottom-color: var(--fill-color);\n",
              "    }\n",
              "  }\n",
              "</style>\n",
              "\n",
              "      <script>\n",
              "        async function quickchart(key) {\n",
              "          const quickchartButtonEl =\n",
              "            document.querySelector('#' + key + ' button');\n",
              "          quickchartButtonEl.disabled = true;  // To prevent multiple clicks.\n",
              "          quickchartButtonEl.classList.add('colab-df-spinner');\n",
              "          try {\n",
              "            const charts = await google.colab.kernel.invokeFunction(\n",
              "                'suggestCharts', [key], {});\n",
              "          } catch (error) {\n",
              "            console.error('Error during call to suggestCharts:', error);\n",
              "          }\n",
              "          quickchartButtonEl.classList.remove('colab-df-spinner');\n",
              "          quickchartButtonEl.classList.add('colab-df-quickchart-complete');\n",
              "        }\n",
              "        (() => {\n",
              "          let quickchartButtonEl =\n",
<<<<<<< HEAD
              "            document.querySelector('#df-a92df496-9e33-4e40-8b62-9cace678a2a4 button');\n",
=======
              "            document.querySelector('#df-21f89a44-b11e-4458-8baf-00e2acefd15b button');\n",
>>>>>>> e55c210 (added updated files)
              "          quickchartButtonEl.style.display =\n",
              "            google.colab.kernel.accessAllowed ? 'block' : 'none';\n",
              "        })();\n",
              "      </script>\n",
              "    </div>\n",
              "\n",
<<<<<<< HEAD
              "  <div id=\"id_bc6d196d-e26e-4257-a9cd-c0cca5b8c190\">\n",
=======
              "  <div id=\"id_a95e2985-4f81-44ef-88d3-354d7e66df5f\">\n",
>>>>>>> e55c210 (added updated files)
              "    <style>\n",
              "      .colab-df-generate {\n",
              "        background-color: #E8F0FE;\n",
              "        border: none;\n",
              "        border-radius: 50%;\n",
              "        cursor: pointer;\n",
              "        display: none;\n",
              "        fill: #1967D2;\n",
              "        height: 32px;\n",
              "        padding: 0 0 0 0;\n",
              "        width: 32px;\n",
              "      }\n",
              "\n",
              "      .colab-df-generate:hover {\n",
              "        background-color: #E2EBFA;\n",
              "        box-shadow: 0px 1px 2px rgba(60, 64, 67, 0.3), 0px 1px 3px 1px rgba(60, 64, 67, 0.15);\n",
              "        fill: #174EA6;\n",
              "      }\n",
              "\n",
              "      [theme=dark] .colab-df-generate {\n",
              "        background-color: #3B4455;\n",
              "        fill: #D2E3FC;\n",
              "      }\n",
              "\n",
              "      [theme=dark] .colab-df-generate:hover {\n",
              "        background-color: #434B5C;\n",
              "        box-shadow: 0px 1px 3px 1px rgba(0, 0, 0, 0.15);\n",
              "        filter: drop-shadow(0px 1px 2px rgba(0, 0, 0, 0.3));\n",
              "        fill: #FFFFFF;\n",
              "      }\n",
              "    </style>\n",
              "    <button class=\"colab-df-generate\" onclick=\"generateWithVariable('data')\"\n",
              "            title=\"Generate code using this dataframe.\"\n",
              "            style=\"display:none;\">\n",
              "\n",
              "  <svg xmlns=\"http://www.w3.org/2000/svg\" height=\"24px\"viewBox=\"0 0 24 24\"\n",
              "       width=\"24px\">\n",
              "    <path d=\"M7,19H8.4L18.45,9,17,7.55,7,17.6ZM5,21V16.75L18.45,3.32a2,2,0,0,1,2.83,0l1.4,1.43a1.91,1.91,0,0,1,.58,1.4,1.91,1.91,0,0,1-.58,1.4L9.25,21ZM18.45,9,17,7.55Zm-12,3A5.31,5.31,0,0,0,4.9,8.1,5.31,5.31,0,0,0,1,6.5,5.31,5.31,0,0,0,4.9,4.9,5.31,5.31,0,0,0,6.5,1,5.31,5.31,0,0,0,8.1,4.9,5.31,5.31,0,0,0,12,6.5,5.46,5.46,0,0,0,6.5,12Z\"/>\n",
              "  </svg>\n",
              "    </button>\n",
              "    <script>\n",
              "      (() => {\n",
              "      const buttonEl =\n",
<<<<<<< HEAD
              "        document.querySelector('#id_bc6d196d-e26e-4257-a9cd-c0cca5b8c190 button.colab-df-generate');\n",
=======
              "        document.querySelector('#id_a95e2985-4f81-44ef-88d3-354d7e66df5f button.colab-df-generate');\n",
>>>>>>> e55c210 (added updated files)
              "      buttonEl.style.display =\n",
              "        google.colab.kernel.accessAllowed ? 'block' : 'none';\n",
              "\n",
              "      buttonEl.onclick = () => {\n",
              "        google.colab.notebook.generateWithVariable('data');\n",
              "      }\n",
              "      })();\n",
              "    </script>\n",
              "  </div>\n",
              "\n",
              "    </div>\n",
              "  </div>\n"
            ],
            "application/vnd.google.colaboratory.intrinsic+json": {
              "type": "dataframe",
              "variable_name": "data",
              "summary": "{\n  \"name\": \"data\",\n  \"rows\": 39942,\n  \"fields\": [\n    {\n      \"column\": \"label\",\n      \"properties\": {\n        \"dtype\": \"number\",\n        \"std\": 0,\n        \"min\": 0,\n        \"max\": 1,\n        \"num_unique_values\": 2,\n        \"samples\": [\n          0,\n          1\n        ],\n        \"semantic_type\": \"\",\n        \"description\": \"\"\n      }\n    },\n    {\n      \"column\": \"title\",\n      \"properties\": {\n        \"dtype\": \"string\",\n        \"num_unique_values\": 36083,\n        \"samples\": [\n          \"Swedish airport explosive suspect released without charge: prosecutor\",\n          \" Democrats Across The Country Are Figuring Out Ways To FORCE Trump To Release His Tax Returns\"\n        ],\n        \"semantic_type\": \"\",\n        \"description\": \"\"\n      }\n    },\n    {\n      \"column\": \"text\",\n      \"properties\": {\n        \"dtype\": \"string\",\n        \"num_unique_values\": 35977,\n        \"samples\": [\n          \"Rudi gets it! The former mayor of New York speaks out on the horrible Obama foreign policy and how it created ISIS: This did not have to happen if our policies were different.  If President Obama had listened to Senator McCain and Senator Graham and a whole group of other people, and had set up a no-fly zone in Syria five years ago   if we had gone in and worked with the Syrian legitimate rebels  If we had not taken our troops out of Iraq and Afghanistan, ISIS never would have emerged. ISIS is filling a vacuum created by a vacuous foreign policy   ISIS is an Obama creation.  \",\n          \" You re carrying Mexican flags while chanting,  Trump is not my President.  You know that this is America right? ***Language warning***\"\n        ],\n        \"semantic_type\": \"\",\n        \"description\": \"\"\n      }\n    }\n  ]\n}"
            }
          },
          "metadata": {},
<<<<<<< HEAD
          "execution_count": 9
=======
          "execution_count": 6
>>>>>>> e55c210 (added updated files)
        }
      ],
      "source": [
        "data.drop(columns=['date', 'subject'],inplace=True)\n",
        "data"
      ]
    },
    {
      "cell_type": "markdown",
      "id": "0f8673bb",
      "metadata": {
        "id": "0f8673bb"
      },
      "source": [
        "## Data Splitting"
      ]
    },
    {
      "cell_type": "markdown",
      "id": "be2e1dad",
      "metadata": {
        "id": "be2e1dad"
      },
      "source": [
        "Data splitting into test and train: If you preprocess before splitting, your preprocessing steps (like fitting a vectorizer, TF-IDF, etc.) will “see” the test data, causing data leakage and giving you unrealistically high performance."
      ]
    },
    {
      "cell_type": "code",
<<<<<<< HEAD
      "execution_count": 10,
      "id": "e15bd329",
      "metadata": {
        "colab": {
          "base_uri": "https://localhost:8080/"
        },
        "id": "e15bd329",
        "outputId": "8e3508ee-a516-474b-9b81-965d73ff3205"
      },
      "outputs": [
        {
          "output_type": "stream",
          "name": "stdout",
          "text": [
            "(31953,) (7989,)\n"
          ]
        }
      ],
      "source": [
        "data['combined_text'] = data['text'] + data['title']\n",
        "X = data['combined_text']\n",
=======
      "source": [
        "X = data[['text', 'title']]\n",
>>>>>>> e55c210 (added updated files)
        "y = data['label']\n",
        "\n",
        "#Train test split\n",
        "X_train, X_test, y_train, y_test = train_test_split(X, y, test_size=0.2, random_state=42, stratify=y)\n",
        "print(X_train.shape, X_test.shape)"
<<<<<<< HEAD
      ]
    },
    {
      "cell_type": "code",
      "source": [
        "X_train.head(50)"
      ],
      "metadata": {
        "colab": {
          "base_uri": "https://localhost:8080/",
          "height": 1000
        },
        "id": "WwrXcSTuXdL8",
        "outputId": "c1e9de93-5d7c-437f-ab94-bd0c96062efd"
      },
      "id": "WwrXcSTuXdL8",
      "execution_count": 11,
      "outputs": [
        {
          "output_type": "execute_result",
          "data": {
            "text/plain": [
              "33231    Crooked lying Hillary MUST SEE: House Oversigh...\n",
              "36761    Justice Scalia appeared to be in good health p...\n",
              "29035    A University of North Texas student is in crit...\n",
              "31791     #FireBenStein FOX NEWS’ BEN STEIN Calls Presi...\n",
              "3419     WASHINGTON (Reuters) - Robert Mueller, the spe...\n",
              "15101    BERLIN (Reuters) - German parties cited progre...\n",
              "37936    Lawrence O Donnell had a really bad night on A...\n",
              "39711    This is hands down the best commentary yet on ...\n",
              "22787    Public pressure is mounting on Congressional l...\n",
              "22752    When it comes to how shameless the Trump famil...\n",
              "8224     CLEVELAND (Reuters) - Republican presidential ...\n",
              "8009     WASHINGTON (Reuters) - A senior U.S. Justice D...\n",
              "29209    Earlier today, CNN s April Ryan reported Trump...\n",
              "19181    LONDON (Reuters) - Six people were believed to...\n",
              "13311    CARACAS (Reuters) - Days before masked agents ...\n",
              "36996    Does this mean Republicans in the House are FI...\n",
              "31989     WIKILEAKS HITS BACK At Lying Political Hack J...\n",
              "6465     WASHINGTON (Reuters) - Two senior Republican s...\n",
              "817      LOUISVILLE/WASHINGTON (Reuters) - A man has be...\n",
              "923      WASHINGTON (Reuters) - Paul Manafort, former c...\n",
              "7175     BERLIN (Reuters) - U.S. President Barack Obama...\n",
              "36515    This is a good reminder of how important it is...\n",
              "35044     Hillary Clinton is a serial liar. Hillary Cli...\n",
              "24136    Just when you thought Republicans couldn t get...\n",
              "30251    Liberal heads explode in 5 4 3 2 1President Tr...\n",
              "37241    The  Fundamental Transformation  of America is...\n",
              "31336    It s a shame Megyn Kelly believed she had laun...\n",
              "31908    The Hill reported:The NAACP President Cornell ...\n",
              "7856     WASHINGTON (Reuters) - An adviser to Donald Tr...\n",
              "11742    LONDON (Reuters) - British Prime Minister Ther...\n",
              "14166    OSLO (Reuters) - Norwegian police said on Wedn...\n",
              "4449     (Reuters) - Democratic senators questioned Pre...\n",
              "35539    While I m not a huge O Reilly fan, I do believ...\n",
              "14355    DUBLIN (Reuters) - Sinn Fein s Gerry Adams, a ...\n",
              "28732    Carly Fiorina is going to be in a world of hur...\n",
              "18071    MADRID (Reuters) - The Spanish government coul...\n",
              "18908    KAMPALA (Reuters) - Fighting erupted in Uganda...\n",
              "23412    This morning, CNN host Chris Cuomo found himse...\n",
              "3283     WASHINGTON (Reuters) - U.S. President Donald T...\n",
              "23720    Kansas Secretary of State Kris Kobach has repo...\n",
              "8944     NEW YORK (Reuters) - Democratic presidential h...\n",
              "38770    Judge Jeanine lets it rip! She s concerned wit...\n",
              "30211    You may remember the story of a New Jersey hig...\n",
              "28516    If Jeb Bush watched The Daily Show last night,...\n",
              "37264    Karl Rove is suggesting Hillary suffered brain...\n",
              "22264    Donald Trump s list of allies is getting short...\n",
              "10164    NEW YORK (Reuters) - Donald Trump’s presidenti...\n",
              "37297     I m leaving the GOP and running as a Democrat...\n",
              "38525    London s Muslim Mayor Sadiq Khan, called on th...\n",
              "15115    BEIRUT/PARIS (Reuters) - Hezbollah s leader sa...\n",
              "Name: combined_text, dtype: object"
            ],
            "text/html": [
              "<div>\n",
              "<style scoped>\n",
              "    .dataframe tbody tr th:only-of-type {\n",
              "        vertical-align: middle;\n",
              "    }\n",
              "\n",
              "    .dataframe tbody tr th {\n",
              "        vertical-align: top;\n",
              "    }\n",
              "\n",
              "    .dataframe thead th {\n",
              "        text-align: right;\n",
              "    }\n",
              "</style>\n",
              "<table border=\"1\" class=\"dataframe\">\n",
              "  <thead>\n",
              "    <tr style=\"text-align: right;\">\n",
              "      <th></th>\n",
              "      <th>combined_text</th>\n",
              "    </tr>\n",
              "  </thead>\n",
              "  <tbody>\n",
              "    <tr>\n",
              "      <th>33231</th>\n",
              "      <td>Crooked lying Hillary MUST SEE: House Oversigh...</td>\n",
              "    </tr>\n",
              "    <tr>\n",
              "      <th>36761</th>\n",
              "      <td>Justice Scalia appeared to be in good health p...</td>\n",
              "    </tr>\n",
              "    <tr>\n",
              "      <th>29035</th>\n",
              "      <td>A University of North Texas student is in crit...</td>\n",
              "    </tr>\n",
              "    <tr>\n",
              "      <th>31791</th>\n",
              "      <td>#FireBenStein FOX NEWS’ BEN STEIN Calls Presi...</td>\n",
              "    </tr>\n",
              "    <tr>\n",
              "      <th>3419</th>\n",
              "      <td>WASHINGTON (Reuters) - Robert Mueller, the spe...</td>\n",
              "    </tr>\n",
              "    <tr>\n",
              "      <th>15101</th>\n",
              "      <td>BERLIN (Reuters) - German parties cited progre...</td>\n",
              "    </tr>\n",
              "    <tr>\n",
              "      <th>37936</th>\n",
              "      <td>Lawrence O Donnell had a really bad night on A...</td>\n",
              "    </tr>\n",
              "    <tr>\n",
              "      <th>39711</th>\n",
              "      <td>This is hands down the best commentary yet on ...</td>\n",
              "    </tr>\n",
              "    <tr>\n",
              "      <th>22787</th>\n",
              "      <td>Public pressure is mounting on Congressional l...</td>\n",
              "    </tr>\n",
              "    <tr>\n",
              "      <th>22752</th>\n",
              "      <td>When it comes to how shameless the Trump famil...</td>\n",
              "    </tr>\n",
              "    <tr>\n",
              "      <th>8224</th>\n",
              "      <td>CLEVELAND (Reuters) - Republican presidential ...</td>\n",
              "    </tr>\n",
              "    <tr>\n",
              "      <th>8009</th>\n",
              "      <td>WASHINGTON (Reuters) - A senior U.S. Justice D...</td>\n",
              "    </tr>\n",
              "    <tr>\n",
              "      <th>29209</th>\n",
              "      <td>Earlier today, CNN s April Ryan reported Trump...</td>\n",
              "    </tr>\n",
              "    <tr>\n",
              "      <th>19181</th>\n",
              "      <td>LONDON (Reuters) - Six people were believed to...</td>\n",
              "    </tr>\n",
              "    <tr>\n",
              "      <th>13311</th>\n",
              "      <td>CARACAS (Reuters) - Days before masked agents ...</td>\n",
              "    </tr>\n",
              "    <tr>\n",
              "      <th>36996</th>\n",
              "      <td>Does this mean Republicans in the House are FI...</td>\n",
              "    </tr>\n",
              "    <tr>\n",
              "      <th>31989</th>\n",
              "      <td>WIKILEAKS HITS BACK At Lying Political Hack J...</td>\n",
              "    </tr>\n",
              "    <tr>\n",
              "      <th>6465</th>\n",
              "      <td>WASHINGTON (Reuters) - Two senior Republican s...</td>\n",
              "    </tr>\n",
              "    <tr>\n",
              "      <th>817</th>\n",
              "      <td>LOUISVILLE/WASHINGTON (Reuters) - A man has be...</td>\n",
              "    </tr>\n",
              "    <tr>\n",
              "      <th>923</th>\n",
              "      <td>WASHINGTON (Reuters) - Paul Manafort, former c...</td>\n",
              "    </tr>\n",
              "    <tr>\n",
              "      <th>7175</th>\n",
              "      <td>BERLIN (Reuters) - U.S. President Barack Obama...</td>\n",
              "    </tr>\n",
              "    <tr>\n",
              "      <th>36515</th>\n",
              "      <td>This is a good reminder of how important it is...</td>\n",
              "    </tr>\n",
              "    <tr>\n",
              "      <th>35044</th>\n",
              "      <td>Hillary Clinton is a serial liar. Hillary Cli...</td>\n",
              "    </tr>\n",
              "    <tr>\n",
              "      <th>24136</th>\n",
              "      <td>Just when you thought Republicans couldn t get...</td>\n",
              "    </tr>\n",
              "    <tr>\n",
              "      <th>30251</th>\n",
              "      <td>Liberal heads explode in 5 4 3 2 1President Tr...</td>\n",
              "    </tr>\n",
              "    <tr>\n",
              "      <th>37241</th>\n",
              "      <td>The  Fundamental Transformation  of America is...</td>\n",
              "    </tr>\n",
              "    <tr>\n",
              "      <th>31336</th>\n",
              "      <td>It s a shame Megyn Kelly believed she had laun...</td>\n",
              "    </tr>\n",
              "    <tr>\n",
              "      <th>31908</th>\n",
              "      <td>The Hill reported:The NAACP President Cornell ...</td>\n",
              "    </tr>\n",
              "    <tr>\n",
              "      <th>7856</th>\n",
              "      <td>WASHINGTON (Reuters) - An adviser to Donald Tr...</td>\n",
              "    </tr>\n",
              "    <tr>\n",
              "      <th>11742</th>\n",
              "      <td>LONDON (Reuters) - British Prime Minister Ther...</td>\n",
              "    </tr>\n",
              "    <tr>\n",
              "      <th>14166</th>\n",
              "      <td>OSLO (Reuters) - Norwegian police said on Wedn...</td>\n",
              "    </tr>\n",
              "    <tr>\n",
              "      <th>4449</th>\n",
              "      <td>(Reuters) - Democratic senators questioned Pre...</td>\n",
              "    </tr>\n",
              "    <tr>\n",
              "      <th>35539</th>\n",
              "      <td>While I m not a huge O Reilly fan, I do believ...</td>\n",
              "    </tr>\n",
              "    <tr>\n",
              "      <th>14355</th>\n",
              "      <td>DUBLIN (Reuters) - Sinn Fein s Gerry Adams, a ...</td>\n",
              "    </tr>\n",
              "    <tr>\n",
              "      <th>28732</th>\n",
              "      <td>Carly Fiorina is going to be in a world of hur...</td>\n",
              "    </tr>\n",
              "    <tr>\n",
              "      <th>18071</th>\n",
              "      <td>MADRID (Reuters) - The Spanish government coul...</td>\n",
              "    </tr>\n",
              "    <tr>\n",
              "      <th>18908</th>\n",
              "      <td>KAMPALA (Reuters) - Fighting erupted in Uganda...</td>\n",
              "    </tr>\n",
              "    <tr>\n",
              "      <th>23412</th>\n",
              "      <td>This morning, CNN host Chris Cuomo found himse...</td>\n",
              "    </tr>\n",
              "    <tr>\n",
              "      <th>3283</th>\n",
              "      <td>WASHINGTON (Reuters) - U.S. President Donald T...</td>\n",
              "    </tr>\n",
              "    <tr>\n",
              "      <th>23720</th>\n",
              "      <td>Kansas Secretary of State Kris Kobach has repo...</td>\n",
              "    </tr>\n",
              "    <tr>\n",
              "      <th>8944</th>\n",
              "      <td>NEW YORK (Reuters) - Democratic presidential h...</td>\n",
              "    </tr>\n",
              "    <tr>\n",
              "      <th>38770</th>\n",
              "      <td>Judge Jeanine lets it rip! She s concerned wit...</td>\n",
              "    </tr>\n",
              "    <tr>\n",
              "      <th>30211</th>\n",
              "      <td>You may remember the story of a New Jersey hig...</td>\n",
              "    </tr>\n",
              "    <tr>\n",
              "      <th>28516</th>\n",
              "      <td>If Jeb Bush watched The Daily Show last night,...</td>\n",
              "    </tr>\n",
              "    <tr>\n",
              "      <th>37264</th>\n",
              "      <td>Karl Rove is suggesting Hillary suffered brain...</td>\n",
              "    </tr>\n",
              "    <tr>\n",
              "      <th>22264</th>\n",
              "      <td>Donald Trump s list of allies is getting short...</td>\n",
              "    </tr>\n",
              "    <tr>\n",
              "      <th>10164</th>\n",
              "      <td>NEW YORK (Reuters) - Donald Trump’s presidenti...</td>\n",
              "    </tr>\n",
              "    <tr>\n",
              "      <th>37297</th>\n",
              "      <td>I m leaving the GOP and running as a Democrat...</td>\n",
              "    </tr>\n",
              "    <tr>\n",
              "      <th>38525</th>\n",
              "      <td>London s Muslim Mayor Sadiq Khan, called on th...</td>\n",
              "    </tr>\n",
              "    <tr>\n",
              "      <th>15115</th>\n",
              "      <td>BEIRUT/PARIS (Reuters) - Hezbollah s leader sa...</td>\n",
              "    </tr>\n",
              "  </tbody>\n",
              "</table>\n",
              "</div><br><label><b>dtype:</b> object</label>"
            ]
          },
          "metadata": {},
          "execution_count": 11
=======
      ],
      "metadata": {
        "colab": {
          "base_uri": "https://localhost:8080/"
        },
        "id": "Ozkhn4RMhw2_",
        "outputId": "3bde7840-bdb1-45e0-edb2-e0a0177120d3"
      },
      "id": "Ozkhn4RMhw2_",
      "execution_count": null,
      "outputs": [
        {
          "output_type": "stream",
          "name": "stdout",
          "text": [
            "(31953, 2) (7989, 2)\n"
          ]
>>>>>>> e55c210 (added updated files)
        }
      ]
    },
    {
      "cell_type": "markdown",
      "source": [
<<<<<<< HEAD
=======
        "##"
      ],
      "metadata": {
        "id": "mPrbhqIbutuV"
      },
      "id": "mPrbhqIbutuV"
    },
    {
      "cell_type": "markdown",
      "source": [
>>>>>>> e55c210 (added updated files)
        "## Data Preprocessing 2"
      ],
      "metadata": {
        "id": "BOE41Rs1WmO5"
      },
      "id": "BOE41Rs1WmO5"
    },
    {
      "cell_type": "code",
      "source": [
<<<<<<< HEAD
=======
        "def combine_text_cols(df):\n",
        "    return (df['title'].astype(str) + \" \" + df['text'].astype(str)).rename('combined_text')\n",
        "\n",
        "X_train_clean = combine_text_cols(X_train)\n",
        "X_test_clean  = combine_text_cols(X_test)\n",
        "\n",
>>>>>>> e55c210 (added updated files)
        "def preprocess_text(text: str):\n",
        "    s = text.lower()             #conversion to lower text\n",
        "    s = re.sub(r\"^b['\\\"]\", \"\", s) #remove prefixed b' or b\"\n",
        "    s = re.sub(r\"[^a-z\\s]\", \" \", s) #remove special chars & numbers (keep spaces and letters)\n",
        "    s = re.sub(r\"\\b[a-z]\\b\", \" \", s) #remove single characters\n",
        "    s = re.sub(r\"^[a-z]\\s+\", \" \", s) #remove single character from start (redundant but explicit)\n",
        "    s = re.sub(r\"\\s+\", \" \", s).strip() #collapse multiple spaces\n",
        "    return s\n",
        "\n",
<<<<<<< HEAD
        "X_train_clean = X_train.apply(preprocess_text)\n",
        "X_test_clean  = X_test.apply(preprocess_text)"
=======
        "X_train_clean = X_train_clean.apply(preprocess_text)\n",
        "X_test_clean  = X_test_clean.apply(preprocess_text)"
>>>>>>> e55c210 (added updated files)
      ],
      "metadata": {
        "id": "qiOFiavwWpwS"
      },
      "id": "qiOFiavwWpwS",
<<<<<<< HEAD
      "execution_count": 12,
      "outputs": []
    },
    {
      "cell_type": "code",
      "source": [
        "X_train_clean.head(50)"
      ],
      "metadata": {
        "colab": {
          "base_uri": "https://localhost:8080/",
          "height": 1000
        },
        "id": "xebz-VBRXfnn",
        "outputId": "4ee0c3a8-67fb-4388-a860-22df1ace0754"
      },
      "id": "xebz-VBRXfnn",
      "execution_count": 13,
      "outputs": [
        {
          "output_type": "execute_result",
          "data": {
            "text/plain": [
              "33231    crooked lying hillary must see house oversight...\n",
              "36761    justice scalia appeared to be in good health p...\n",
              "29035    university of north texas student is in critic...\n",
              "31791    firebenstein fox news ben stein calls presiden...\n",
              "3419     washington reuters robert mueller the special ...\n",
              "15101    berlin reuters german parties cited progress o...\n",
              "37936    lawrence donnell had really bad night on augus...\n",
              "39711    this is hands down the best commentary yet on ...\n",
              "22787    public pressure is mounting on congressional l...\n",
              "22752    when it comes to how shameless the trump famil...\n",
              "8224     cleveland reuters republican presidential nomi...\n",
              "8009     washington reuters senior justice department o...\n",
              "29209    earlier today cnn april ryan reported trump ad...\n",
              "19181    london reuters six people were believed to hav...\n",
              "13311    caracas reuters days before masked agents arre...\n",
              "36996    does this mean republicans in the house are fi...\n",
              "31989    wikileaks hits back at lying political hack ja...\n",
              "6465     washington reuters two senior republican senat...\n",
              "817      louisville washington reuters man has been arr...\n",
              "923      washington reuters paul manafort former campai...\n",
              "7175     berlin reuters president barack obama and euro...\n",
              "36515    this is good reminder of how important it is t...\n",
              "35044    hillary clinton is serial liar hillary clinton...\n",
              "24136    just when you thought republicans couldn get m...\n",
              "30251    liberal heads explode in president trump could...\n",
              "37241    the fundamental transformation of america is a...\n",
              "31336    it shame megyn kelly believed she had launch a...\n",
              "31908    the hill reported the naacp president cornell ...\n",
              "7856     washington reuters an adviser to donald trump ...\n",
              "11742    london reuters british prime minister theresa ...\n",
              "14166    oslo reuters norwegian police said on wednesda...\n",
              "4449     reuters democratic senators questioned preside...\n",
              "35539    while not huge reilly fan do believe this comm...\n",
              "14355    dublin reuters sinn fein gerry adams pivotal f...\n",
              "28732    carly fiorina is going to be in world of hurt ...\n",
              "18071    madrid reuters the spanish government could us...\n",
              "18908    kampala reuters fighting erupted in uganda par...\n",
              "23412    this morning cnn host chris cuomo found himsel...\n",
              "3283     washington reuters president donald trump on f...\n",
              "23720    kansas secretary of state kris kobach has repo...\n",
              "8944     new york reuters democratic presidential hopef...\n",
              "38770    judge jeanine lets it rip she concerned with t...\n",
              "30211    you may remember the story of new jersey high ...\n",
              "28516    if jeb bush watched the daily show last night ...\n",
              "37264    karl rove is suggesting hillary suffered brain...\n",
              "22264    donald trump list of allies is getting shorter...\n",
              "10164    new york reuters donald trump presidential cam...\n",
              "37297    leaving the gop and running as democrat unfort...\n",
              "38525    london muslim mayor sadiq khan called on the b...\n",
              "15115    beirut paris reuters hezbollah leader said on ...\n",
              "Name: combined_text, dtype: object"
            ],
            "text/html": [
              "<div>\n",
              "<style scoped>\n",
              "    .dataframe tbody tr th:only-of-type {\n",
              "        vertical-align: middle;\n",
              "    }\n",
              "\n",
              "    .dataframe tbody tr th {\n",
              "        vertical-align: top;\n",
              "    }\n",
              "\n",
              "    .dataframe thead th {\n",
              "        text-align: right;\n",
              "    }\n",
              "</style>\n",
              "<table border=\"1\" class=\"dataframe\">\n",
              "  <thead>\n",
              "    <tr style=\"text-align: right;\">\n",
              "      <th></th>\n",
              "      <th>combined_text</th>\n",
              "    </tr>\n",
              "  </thead>\n",
              "  <tbody>\n",
              "    <tr>\n",
              "      <th>33231</th>\n",
              "      <td>crooked lying hillary must see house oversight...</td>\n",
              "    </tr>\n",
              "    <tr>\n",
              "      <th>36761</th>\n",
              "      <td>justice scalia appeared to be in good health p...</td>\n",
              "    </tr>\n",
              "    <tr>\n",
              "      <th>29035</th>\n",
              "      <td>university of north texas student is in critic...</td>\n",
              "    </tr>\n",
              "    <tr>\n",
              "      <th>31791</th>\n",
              "      <td>firebenstein fox news ben stein calls presiden...</td>\n",
              "    </tr>\n",
              "    <tr>\n",
              "      <th>3419</th>\n",
              "      <td>washington reuters robert mueller the special ...</td>\n",
              "    </tr>\n",
              "    <tr>\n",
              "      <th>15101</th>\n",
              "      <td>berlin reuters german parties cited progress o...</td>\n",
              "    </tr>\n",
              "    <tr>\n",
              "      <th>37936</th>\n",
              "      <td>lawrence donnell had really bad night on augus...</td>\n",
              "    </tr>\n",
              "    <tr>\n",
              "      <th>39711</th>\n",
              "      <td>this is hands down the best commentary yet on ...</td>\n",
              "    </tr>\n",
              "    <tr>\n",
              "      <th>22787</th>\n",
              "      <td>public pressure is mounting on congressional l...</td>\n",
              "    </tr>\n",
              "    <tr>\n",
              "      <th>22752</th>\n",
              "      <td>when it comes to how shameless the trump famil...</td>\n",
              "    </tr>\n",
              "    <tr>\n",
              "      <th>8224</th>\n",
              "      <td>cleveland reuters republican presidential nomi...</td>\n",
              "    </tr>\n",
              "    <tr>\n",
              "      <th>8009</th>\n",
              "      <td>washington reuters senior justice department o...</td>\n",
              "    </tr>\n",
              "    <tr>\n",
              "      <th>29209</th>\n",
              "      <td>earlier today cnn april ryan reported trump ad...</td>\n",
              "    </tr>\n",
              "    <tr>\n",
              "      <th>19181</th>\n",
              "      <td>london reuters six people were believed to hav...</td>\n",
              "    </tr>\n",
              "    <tr>\n",
              "      <th>13311</th>\n",
              "      <td>caracas reuters days before masked agents arre...</td>\n",
              "    </tr>\n",
              "    <tr>\n",
              "      <th>36996</th>\n",
              "      <td>does this mean republicans in the house are fi...</td>\n",
              "    </tr>\n",
              "    <tr>\n",
              "      <th>31989</th>\n",
              "      <td>wikileaks hits back at lying political hack ja...</td>\n",
              "    </tr>\n",
              "    <tr>\n",
              "      <th>6465</th>\n",
              "      <td>washington reuters two senior republican senat...</td>\n",
              "    </tr>\n",
              "    <tr>\n",
              "      <th>817</th>\n",
              "      <td>louisville washington reuters man has been arr...</td>\n",
              "    </tr>\n",
              "    <tr>\n",
              "      <th>923</th>\n",
              "      <td>washington reuters paul manafort former campai...</td>\n",
              "    </tr>\n",
              "    <tr>\n",
              "      <th>7175</th>\n",
              "      <td>berlin reuters president barack obama and euro...</td>\n",
              "    </tr>\n",
              "    <tr>\n",
              "      <th>36515</th>\n",
              "      <td>this is good reminder of how important it is t...</td>\n",
              "    </tr>\n",
              "    <tr>\n",
              "      <th>35044</th>\n",
              "      <td>hillary clinton is serial liar hillary clinton...</td>\n",
              "    </tr>\n",
              "    <tr>\n",
              "      <th>24136</th>\n",
              "      <td>just when you thought republicans couldn get m...</td>\n",
              "    </tr>\n",
              "    <tr>\n",
              "      <th>30251</th>\n",
              "      <td>liberal heads explode in president trump could...</td>\n",
              "    </tr>\n",
              "    <tr>\n",
              "      <th>37241</th>\n",
              "      <td>the fundamental transformation of america is a...</td>\n",
              "    </tr>\n",
              "    <tr>\n",
              "      <th>31336</th>\n",
              "      <td>it shame megyn kelly believed she had launch a...</td>\n",
              "    </tr>\n",
              "    <tr>\n",
              "      <th>31908</th>\n",
              "      <td>the hill reported the naacp president cornell ...</td>\n",
              "    </tr>\n",
              "    <tr>\n",
              "      <th>7856</th>\n",
              "      <td>washington reuters an adviser to donald trump ...</td>\n",
              "    </tr>\n",
              "    <tr>\n",
              "      <th>11742</th>\n",
              "      <td>london reuters british prime minister theresa ...</td>\n",
              "    </tr>\n",
              "    <tr>\n",
              "      <th>14166</th>\n",
              "      <td>oslo reuters norwegian police said on wednesda...</td>\n",
              "    </tr>\n",
              "    <tr>\n",
              "      <th>4449</th>\n",
              "      <td>reuters democratic senators questioned preside...</td>\n",
              "    </tr>\n",
              "    <tr>\n",
              "      <th>35539</th>\n",
              "      <td>while not huge reilly fan do believe this comm...</td>\n",
              "    </tr>\n",
              "    <tr>\n",
              "      <th>14355</th>\n",
              "      <td>dublin reuters sinn fein gerry adams pivotal f...</td>\n",
              "    </tr>\n",
              "    <tr>\n",
              "      <th>28732</th>\n",
              "      <td>carly fiorina is going to be in world of hurt ...</td>\n",
              "    </tr>\n",
              "    <tr>\n",
              "      <th>18071</th>\n",
              "      <td>madrid reuters the spanish government could us...</td>\n",
              "    </tr>\n",
              "    <tr>\n",
              "      <th>18908</th>\n",
              "      <td>kampala reuters fighting erupted in uganda par...</td>\n",
              "    </tr>\n",
              "    <tr>\n",
              "      <th>23412</th>\n",
              "      <td>this morning cnn host chris cuomo found himsel...</td>\n",
              "    </tr>\n",
              "    <tr>\n",
              "      <th>3283</th>\n",
              "      <td>washington reuters president donald trump on f...</td>\n",
              "    </tr>\n",
              "    <tr>\n",
              "      <th>23720</th>\n",
              "      <td>kansas secretary of state kris kobach has repo...</td>\n",
              "    </tr>\n",
              "    <tr>\n",
              "      <th>8944</th>\n",
              "      <td>new york reuters democratic presidential hopef...</td>\n",
              "    </tr>\n",
              "    <tr>\n",
              "      <th>38770</th>\n",
              "      <td>judge jeanine lets it rip she concerned with t...</td>\n",
              "    </tr>\n",
              "    <tr>\n",
              "      <th>30211</th>\n",
              "      <td>you may remember the story of new jersey high ...</td>\n",
              "    </tr>\n",
              "    <tr>\n",
              "      <th>28516</th>\n",
              "      <td>if jeb bush watched the daily show last night ...</td>\n",
              "    </tr>\n",
              "    <tr>\n",
              "      <th>37264</th>\n",
              "      <td>karl rove is suggesting hillary suffered brain...</td>\n",
              "    </tr>\n",
              "    <tr>\n",
              "      <th>22264</th>\n",
              "      <td>donald trump list of allies is getting shorter...</td>\n",
              "    </tr>\n",
              "    <tr>\n",
              "      <th>10164</th>\n",
              "      <td>new york reuters donald trump presidential cam...</td>\n",
              "    </tr>\n",
              "    <tr>\n",
              "      <th>37297</th>\n",
              "      <td>leaving the gop and running as democrat unfort...</td>\n",
              "    </tr>\n",
              "    <tr>\n",
              "      <th>38525</th>\n",
              "      <td>london muslim mayor sadiq khan called on the b...</td>\n",
              "    </tr>\n",
              "    <tr>\n",
              "      <th>15115</th>\n",
              "      <td>beirut paris reuters hezbollah leader said on ...</td>\n",
              "    </tr>\n",
              "  </tbody>\n",
              "</table>\n",
              "</div><br><label><b>dtype:</b> object</label>"
            ]
          },
          "metadata": {},
          "execution_count": 13
        }
      ]
    },
    {
=======
      "execution_count": null,
      "outputs": []
    },
    {
>>>>>>> e55c210 (added updated files)
      "cell_type": "markdown",
      "id": "0117ec01",
      "metadata": {
        "id": "0117ec01"
      },
      "source": [
        "## NLP Data Processing"
      ]
    },
    {
      "cell_type": "code",
      "source": [
        "# Keep common negations\n",
        "STOPWORDS = set(stopwords.words('english')) - {'no', 'nor', 'not'}\n",
        "LEMMATIZER = WordNetLemmatizer()\n",
        "\n",
        "def _wn_pos(treebank_tag):\n",
        "    if treebank_tag.startswith('J'):\n",
        "        return wordnet.ADJ\n",
        "    if treebank_tag.startswith('V'):\n",
        "        return wordnet.VERB\n",
        "    if treebank_tag.startswith('N'):\n",
        "        return wordnet.NOUN\n",
        "    if treebank_tag.startswith('R'):\n",
        "        return wordnet.ADV\n",
        "    return wordnet.NOUN"
      ],
      "metadata": {
        "id": "5EUbpaN2Yhhv"
      },
      "id": "5EUbpaN2Yhhv",
<<<<<<< HEAD
      "execution_count": 14,
=======
      "execution_count": null,
>>>>>>> e55c210 (added updated files)
      "outputs": []
    },
    {
      "cell_type": "code",
<<<<<<< HEAD
      "execution_count": 15,
=======
      "execution_count": null,
>>>>>>> e55c210 (added updated files)
      "id": "6dd1cd24",
      "metadata": {
        "id": "6dd1cd24"
      },
      "outputs": [],
      "source": [
        "def nlp_preprocess_text(text: str):\n",
        "    tokens = word_tokenize(text)                          # tokenize\n",
        "    tokens = [t for t in tokens if t not in STOPWORDS]    # remove stopwords\n",
        "    pos_tags = pos_tag(tokens)                            # lemmatize with POS\n",
        "    lemmas = [LEMMATIZER.lemmatize(w, _wn_pos(p)) for w, p in pos_tags]\n",
        "\n",
        "    return lemmas\n",
        "\n",
        "# Apply to splits\n",
        "X_train_clean2 = X_train_clean.apply(nlp_preprocess_text)\n",
        "X_test_clean2  = X_test_clean.apply(nlp_preprocess_text)"
      ]
    },
    {
<<<<<<< HEAD
      "cell_type": "code",
      "source": [
        "X_train_clean2"
      ],
      "metadata": {
        "colab": {
          "base_uri": "https://localhost:8080/",
          "height": 458
        },
        "id": "rGNcmDAuVZKB",
        "outputId": "cfed8fb6-5fe0-4a8a-e2b9-861a5e1e3eb8"
      },
      "id": "rGNcmDAuVZKB",
      "execution_count": 16,
      "outputs": [
        {
          "output_type": "execute_result",
          "data": {
            "text/plain": [
              "33231    [crook, lying, hillary, must, see, house, over...\n",
              "36761    [justice, scalia, appear, good, health, prior,...\n",
              "29035    [university, north, texas, student, critical, ...\n",
              "31791    [firebenstein, fox, news, ben, stein, call, pr...\n",
              "3419     [washington, reuters, robert, mueller, special...\n",
              "                               ...                        \n",
              "33001    [october, radical, muslim, state, senator, jam...\n",
              "13185    [berlin, reuters, german, police, monday, inve...\n",
              "1334     [mexico, city, reuters, mexico, remain, within...\n",
              "32958    [trump, actually, say, police, amaze, local, p...\n",
              "18880    [kabul, reuters, nato, country, strong, reason...\n",
              "Name: combined_text, Length: 31953, dtype: object"
            ],
            "text/html": [
              "<div>\n",
              "<style scoped>\n",
              "    .dataframe tbody tr th:only-of-type {\n",
              "        vertical-align: middle;\n",
              "    }\n",
              "\n",
              "    .dataframe tbody tr th {\n",
              "        vertical-align: top;\n",
              "    }\n",
              "\n",
              "    .dataframe thead th {\n",
              "        text-align: right;\n",
              "    }\n",
              "</style>\n",
              "<table border=\"1\" class=\"dataframe\">\n",
              "  <thead>\n",
              "    <tr style=\"text-align: right;\">\n",
              "      <th></th>\n",
              "      <th>combined_text</th>\n",
              "    </tr>\n",
              "  </thead>\n",
              "  <tbody>\n",
              "    <tr>\n",
              "      <th>33231</th>\n",
              "      <td>[crook, lying, hillary, must, see, house, over...</td>\n",
              "    </tr>\n",
              "    <tr>\n",
              "      <th>36761</th>\n",
              "      <td>[justice, scalia, appear, good, health, prior,...</td>\n",
              "    </tr>\n",
              "    <tr>\n",
              "      <th>29035</th>\n",
              "      <td>[university, north, texas, student, critical, ...</td>\n",
              "    </tr>\n",
              "    <tr>\n",
              "      <th>31791</th>\n",
              "      <td>[firebenstein, fox, news, ben, stein, call, pr...</td>\n",
              "    </tr>\n",
              "    <tr>\n",
              "      <th>3419</th>\n",
              "      <td>[washington, reuters, robert, mueller, special...</td>\n",
              "    </tr>\n",
              "    <tr>\n",
              "      <th>...</th>\n",
              "      <td>...</td>\n",
              "    </tr>\n",
              "    <tr>\n",
              "      <th>33001</th>\n",
              "      <td>[october, radical, muslim, state, senator, jam...</td>\n",
              "    </tr>\n",
              "    <tr>\n",
              "      <th>13185</th>\n",
              "      <td>[berlin, reuters, german, police, monday, inve...</td>\n",
              "    </tr>\n",
              "    <tr>\n",
              "      <th>1334</th>\n",
              "      <td>[mexico, city, reuters, mexico, remain, within...</td>\n",
              "    </tr>\n",
              "    <tr>\n",
              "      <th>32958</th>\n",
              "      <td>[trump, actually, say, police, amaze, local, p...</td>\n",
              "    </tr>\n",
              "    <tr>\n",
              "      <th>18880</th>\n",
              "      <td>[kabul, reuters, nato, country, strong, reason...</td>\n",
              "    </tr>\n",
              "  </tbody>\n",
              "</table>\n",
              "<p>31953 rows × 1 columns</p>\n",
              "</div><br><label><b>dtype:</b> object</label>"
            ]
          },
          "metadata": {},
          "execution_count": 16
        }
      ]
    },
    {
=======
>>>>>>> e55c210 (added updated files)
      "cell_type": "markdown",
      "source": [
        "## Vectorization"
      ],
      "metadata": {
        "id": "Sx65xC4jwgzw"
      },
      "id": "Sx65xC4jwgzw"
    },
    {
      "cell_type": "markdown",
      "source": [
        "ML models can’t work directly with text — they need fixed-size numerical vectors.\n",
        "Vectorization is the mapping from a sequence of words → a set of numerical values."
      ],
      "metadata": {
        "id": "WoNpYzNewftG"
      },
      "id": "WoNpYzNewftG"
    },
    {
      "cell_type": "markdown",
      "source": [
        "### TF-IDF (Term Frequency – Inverse Document Frequency)"
      ],
      "metadata": {
        "id": "-ohYj_u2xCSD"
      },
      "id": "-ohYj_u2xCSD"
    },
    {
      "cell_type": "markdown",
      "source": [
        "\n",
        "\n",
        "Like BOW, but gives higher weight to words that are unique to a document and lower weight to common words.\n",
        "\n",
        "Good for text classification tasks (like fake news detection) because it reduces the influence of very frequent but uninformative words."
      ],
      "metadata": {
        "id": "nQMfEMvQww1I"
      },
      "id": "nQMfEMvQww1I"
    },
    {
      "cell_type": "code",
      "source": [
        "\n",
<<<<<<< HEAD
        "def tfidf_vectorize(X_train_tokens, X_test_tokens):\n",
        "    X_train_ready = X_train_tokens.apply(lambda toks: \" \".join(toks))\n",
        "    X_test_ready  = X_test_tokens.apply(lambda toks: \" \".join(toks))\n",
        "    vectorizer = TfidfVectorizer()\n",
        "    X_train_tfidf = vectorizer.fit_transform(X_train_ready)\n",
        "    X_test_tfidf  = vectorizer.transform(X_test_ready)\n",
        "    return X_train_tfidf, X_test_tfidf, vectorizer\n",
        "\n",
        "X_train_tfidf, X_test_tfidf, tfidf_vectorizer = tfidf_vectorize(X_train_clean2, X_test_clean2)\n",
=======
        "def tfidf_vectorize(X_tokens, fitted_vectorizer=None):\n",
        "    X_ready = X_tokens.apply(lambda toks: \" \".join(toks))\n",
        "    if fitted_vectorizer is None:  # Training\n",
        "        vectorizer = TfidfVectorizer()\n",
        "        X_tfidf = vectorizer.fit_transform(X_ready)\n",
        "        return X_tfidf, vectorizer\n",
        "    else:  # Inference/Validation\n",
        "        X_tfidf = fitted_vectorizer.transform(X_ready)\n",
        "        return X_tfidf\n",
        "\n",
        "\n",
        "# Training phase (fit vectorizer)\n",
        "X_train_tfidf, tfidf_vectorizer = tfidf_vectorize(X_train_clean2, None)\n",
        "\n",
        "# Test phase (transform with fitted vectorizer)\n",
        "X_test_tfidf = tfidf_vectorize(X_test_clean2, tfidf_vectorizer)\n",
        "\n",
>>>>>>> e55c210 (added updated files)
        "print(\"Train TF-IDF shape:\", X_train_tfidf.shape)\n",
        "print(\"Test TF-IDF shape:\", X_test_tfidf.shape)\n"
      ],
      "metadata": {
        "colab": {
          "base_uri": "https://localhost:8080/"
        },
        "id": "yXnq3P5Ww12B",
<<<<<<< HEAD
        "outputId": "297005e6-fe55-42ae-edd2-e75016eabe52"
      },
      "id": "yXnq3P5Ww12B",
      "execution_count": 17,
=======
        "outputId": "92cc7d8a-ed8a-449c-d11b-67ed0f064bc0"
      },
      "id": "yXnq3P5Ww12B",
      "execution_count": null,
>>>>>>> e55c210 (added updated files)
      "outputs": [
        {
          "output_type": "stream",
          "name": "stdout",
          "text": [
<<<<<<< HEAD
            "Train TF-IDF shape: (31953, 91975)\n",
            "Test TF-IDF shape: (7989, 91975)\n"
=======
            "Train TF-IDF shape: (31953, 90193)\n",
            "Test TF-IDF shape: (7989, 90193)\n"
>>>>>>> e55c210 (added updated files)
          ]
        }
      ]
    },
    {
<<<<<<< HEAD
      "cell_type": "code",
      "source": [
        "X_train_tfidf"
      ],
      "metadata": {
        "colab": {
          "base_uri": "https://localhost:8080/"
        },
        "id": "-cI7vWBRRiDR",
        "outputId": "6f9395b6-b7ac-4163-d02e-c683d882664a"
      },
      "id": "-cI7vWBRRiDR",
      "execution_count": 18,
      "outputs": [
        {
          "output_type": "execute_result",
          "data": {
            "text/plain": [
              "<Compressed Sparse Row sparse matrix of dtype 'float64'\n",
              "\twith 4865974 stored elements and shape (31953, 91975)>"
            ]
          },
          "metadata": {},
          "execution_count": 18
        }
      ]
    },
    {
      "cell_type": "markdown",
      "source": [
        "## Classifier Training"
=======
      "cell_type": "markdown",
      "source": [
        "## Creating one main function"
      ],
      "metadata": {
        "id": "xB_-fQ4glKRe"
      },
      "id": "xB_-fQ4glKRe"
    },
    {
      "cell_type": "code",
      "source": [
        "# --- Main Pipeline Function ---\n",
        "def preprocess_and_vectorize(df, vectorizer=None):\n",
        "    combined = combine_text_cols(df)\n",
        "    cleaned = combined.apply(preprocess_text)\n",
        "    tokens = cleaned.apply(nlp_preprocess_text)\n",
        "    if vectorizer is None:\n",
        "        X_tfidf, fitted_vectorizer = tfidf_vectorize(tokens, None)\n",
        "        return X_tfidf, fitted_vectorizer\n",
        "    else:\n",
        "        X_tfidf = tfidf_vectorize(tokens, vectorizer)\n",
        "        return X_tfidf"
      ],
      "metadata": {
        "id": "bD8UlXkclKyR"
      },
      "id": "bD8UlXkclKyR",
      "execution_count": null,
      "outputs": []
    },
    {
      "cell_type": "markdown",
      "source": [
        "# Classifier Training"
>>>>>>> e55c210 (added updated files)
      ],
      "metadata": {
        "id": "XC3lOXPt2b7C"
      },
      "id": "XC3lOXPt2b7C"
    },
    {
      "cell_type": "markdown",
      "source": [
        "### Linear SVM (LinearSVC)"
      ],
      "metadata": {
        "id": "G5Q5Pi6t2jhd"
      },
      "id": "G5Q5Pi6t2jhd"
    },
    {
      "cell_type": "markdown",
      "source": [
        "Why Linear SVM\n",
        "\n",
        "\n",
        "*   Text data is high‑dimensional and sparse → linear margins work great.\n",
        "\n",
        "*   LinearSVC is usually stronger and more robust than Naive Bayes on varied news text.\n",
        "\n",
        "*   It’s fast, handles large vocabularies well, and needs minimal tuning\n"
      ],
      "metadata": {
        "id": "7BGyGS9C2pcS"
      },
      "id": "7BGyGS9C2pcS"
    },
    {
      "cell_type": "code",
      "source": [
        "\n",
        "\n",
        "# Train Linear SVM\n",
        "svm_clf = LinearSVC(random_state=42)\n",
        "svm_clf.fit(X_train_tfidf, y_train)\n",
        "\n",
        "# Predictions\n",
        "y_train_pred = svm_clf.predict(X_train_tfidf)\n",
        "y_test_pred  = svm_clf.predict(X_test_tfidf)\n",
        "\n",
        "# Metrics\n",
        "print(\"Train Accuracy:\", accuracy_score(y_train, y_train_pred))\n",
        "print(\"Test  Accuracy:\", accuracy_score(y_test,  y_test_pred))\n",
        "print(\"Train F1:\", f1_score(y_train, y_train_pred, average=\"weighted\"))\n",
        "print(\"Test  F1:\", f1_score(y_test,  y_test_pred,  average=\"weighted\"))\n",
        "\n",
        "# Detailed report (test)\n",
        "print(\"\\nClassification Report (Test):\")\n",
        "print(classification_report(y_test, y_test_pred, digits=4))\n",
        "\n",
        "# Confusion matrix (test)\n",
        "print(\"Confusion Matrix (Test):\")\n",
        "print(confusion_matrix(y_test, y_test_pred))\n",
        "\n",
        "# Compare original vs predicted for test set\n",
        "comparison_df = pd.DataFrame({\n",
        "    \"Original\": y_test.values,\n",
        "    \"Predicted\": y_test_pred\n",
        "}).reset_index(drop=True)\n",
        "\n",
        "print(\"\\nSample comparison (first 20 rows):\")\n",
        "print(comparison_df.head(20))\n"
      ],
      "metadata": {
        "colab": {
          "base_uri": "https://localhost:8080/"
        },
        "id": "pOydwd8b28HV",
<<<<<<< HEAD
        "outputId": "64dd0323-5995-4219-e24c-89d55d8259d9"
      },
      "id": "pOydwd8b28HV",
      "execution_count": 19,
=======
        "outputId": "f24ccc95-4fdd-47f4-b280-475ab4cc0b08"
      },
      "id": "pOydwd8b28HV",
      "execution_count": null,
>>>>>>> e55c210 (added updated files)
      "outputs": [
        {
          "output_type": "stream",
          "name": "stdout",
          "text": [
<<<<<<< HEAD
            "Train Accuracy: 0.9995618564767002\n",
            "Test  Accuracy: 0.9937413944173238\n",
            "Train F1: 0.9995618563925895\n",
            "Test  F1: 0.9937413967707687\n",
=======
            "Train Accuracy: 0.9994992645448002\n",
            "Test  Accuracy: 0.9932407059707097\n",
            "Train F1: 0.9994992643947255\n",
            "Test  F1: 0.9932407089360522\n",
>>>>>>> e55c210 (added updated files)
            "\n",
            "Classification Report (Test):\n",
            "              precision    recall  f1-score   support\n",
            "\n",
<<<<<<< HEAD
            "           0     0.9927    0.9947    0.9937      3989\n",
            "           1     0.9947    0.9928    0.9937      4000\n",
            "\n",
            "    accuracy                         0.9937      7989\n",
            "   macro avg     0.9937    0.9937    0.9937      7989\n",
            "weighted avg     0.9937    0.9937    0.9937      7989\n",
            "\n",
            "Confusion Matrix (Test):\n",
            "[[3968   21]\n",
=======
            "           0     0.9927    0.9937    0.9932      3989\n",
            "           1     0.9937    0.9928    0.9932      4000\n",
            "\n",
            "    accuracy                         0.9932      7989\n",
            "   macro avg     0.9932    0.9932    0.9932      7989\n",
            "weighted avg     0.9932    0.9932    0.9932      7989\n",
            "\n",
            "Confusion Matrix (Test):\n",
            "[[3964   25]\n",
>>>>>>> e55c210 (added updated files)
            " [  29 3971]]\n",
            "\n",
            "Sample comparison (first 20 rows):\n",
            "    Original  Predicted\n",
            "0          1          1\n",
            "1          1          1\n",
            "2          0          0\n",
            "3          1          1\n",
            "4          0          0\n",
            "5          0          0\n",
            "6          0          0\n",
            "7          1          1\n",
            "8          1          1\n",
            "9          0          0\n",
            "10         0          0\n",
            "11         0          0\n",
            "12         1          1\n",
            "13         1          1\n",
            "14         1          1\n",
            "15         1          1\n",
            "16         0          0\n",
            "17         0          0\n",
            "18         0          0\n",
            "19         0          0\n"
          ]
        }
      ]
    },
    {
      "cell_type": "markdown",
      "source": [
        "### LogisticRegression"
      ],
      "metadata": {
        "id": "KCO_UASZ4Clo"
      },
      "id": "KCO_UASZ4Clo"
    },
    {
      "cell_type": "code",
      "source": [
        "\n",
        "\n",
        "# Train Logistic Regression\n",
        "log_clf = LogisticRegression(\n",
        "    solver='liblinear',      # good for small to medium sparse datasets\n",
        "    max_iter=1000,\n",
        "    random_state=42\n",
        ")\n",
        "log_clf.fit(X_train_tfidf, y_train)\n",
        "\n",
        "# Predictions\n",
        "y_train_pred = log_clf.predict(X_train_tfidf)\n",
        "y_test_pred  = log_clf.predict(X_test_tfidf)\n",
        "\n",
        "# Metrics\n",
        "print(\"Train Accuracy:\", accuracy_score(y_train, y_train_pred))\n",
        "print(\"Test  Accuracy:\", accuracy_score(y_test,  y_test_pred))\n",
        "print(\"Train F1:\", f1_score(y_train, y_train_pred, average=\"weighted\"))\n",
        "print(\"Test  F1:\", f1_score(y_test,  y_test_pred,  average=\"weighted\"))\n",
        "\n",
        "# Classification report (test)\n",
        "print(\"\\nClassification Report (Test):\")\n",
        "print(classification_report(y_test, y_test_pred, digits=4))\n",
        "\n",
        "# Confusion matrix (test)\n",
        "print(\"Confusion Matrix (Test):\")\n",
        "print(confusion_matrix(y_test, y_test_pred))\n"
      ],
      "metadata": {
        "colab": {
          "base_uri": "https://localhost:8080/"
        },
        "id": "Hx5SMc0y4D3m",
<<<<<<< HEAD
        "outputId": "d8ee67ed-f673-4e6f-ca8d-d9f84dbb92c7"
      },
      "id": "Hx5SMc0y4D3m",
      "execution_count": 20,
=======
        "outputId": "f4d32b1c-53d4-4c69-b38d-fe25baff1b83"
      },
      "id": "Hx5SMc0y4D3m",
      "execution_count": null,
>>>>>>> e55c210 (added updated files)
      "outputs": [
        {
          "output_type": "stream",
          "name": "stdout",
          "text": [
<<<<<<< HEAD
            "Train Accuracy: 0.991456201295653\n",
            "Test  Accuracy: 0.9833521091500813\n",
            "Train F1: 0.991456119320347\n",
            "Test  F1: 0.9833519604691211\n",
=======
            "Train Accuracy: 0.991331017431853\n",
            "Test  Accuracy: 0.984228313931656\n",
            "Train F1: 0.9913309442917377\n",
            "Test  F1: 0.9842281607201046\n",
>>>>>>> e55c210 (added updated files)
            "\n",
            "Classification Report (Test):\n",
            "              precision    recall  f1-score   support\n",
            "\n",
<<<<<<< HEAD
            "           0     0.9856    0.9809    0.9833      3989\n",
            "           1     0.9811    0.9858    0.9834      4000\n",
            "\n",
            "    accuracy                         0.9834      7989\n",
            "   macro avg     0.9834    0.9833    0.9834      7989\n",
            "weighted avg     0.9834    0.9834    0.9834      7989\n",
            "\n",
            "Confusion Matrix (Test):\n",
            "[[3913   76]\n",
            " [  57 3943]]\n"
=======
            "           0     0.9866    0.9817    0.9842      3989\n",
            "           1     0.9818    0.9868    0.9843      4000\n",
            "\n",
            "    accuracy                         0.9842      7989\n",
            "   macro avg     0.9842    0.9842    0.9842      7989\n",
            "weighted avg     0.9842    0.9842    0.9842      7989\n",
            "\n",
            "Confusion Matrix (Test):\n",
            "[[3916   73]\n",
            " [  53 3947]]\n"
>>>>>>> e55c210 (added updated files)
          ]
        }
      ]
    },
    {
      "cell_type": "markdown",
      "source": [
        "## Confusion matrix visulization"
      ],
      "metadata": {
        "id": "oIe3EqJkpcqp"
      },
      "id": "oIe3EqJkpcqp"
    },
    {
      "cell_type": "code",
      "source": [
        "import matplotlib.pyplot as plt\n",
        "import seaborn as sns\n",
        "from sklearn.metrics import confusion_matrix\n",
        "\n",
        "def plot_conf_matrix(y_true, y_pred, title):\n",
        "    cm = confusion_matrix(y_true, y_pred)\n",
        "    plt.figure(figsize=(5,4))\n",
        "    sns.heatmap(cm, annot=True, fmt='d', cmap='Blues',\n",
        "                xticklabels=['Fake (0)', 'Real (1)'],\n",
        "                yticklabels=['Fake (0)', 'Real (1)'])\n",
        "    plt.xlabel('Predicted')\n",
        "    plt.ylabel('Actual')\n",
        "    plt.title(title)\n",
        "    plt.show()\n",
        "\n",
        "# Plot for Linear SVM\n",
        "plot_conf_matrix(y_test, svm_clf.predict(X_test_tfidf), \"Confusion Matrix - Linear SVM\")\n",
        "\n",
        "# Plot for Logistic Regression\n",
        "plot_conf_matrix(y_test, log_clf.predict(X_test_tfidf), \"Confusion Matrix - Logistic Regression\")\n"
      ],
      "metadata": {
        "colab": {
          "base_uri": "https://localhost:8080/",
          "height": 803
        },
        "id": "aGJdEafPpcZB",
<<<<<<< HEAD
        "outputId": "d29b17e0-e920-4790-c150-ca1904e622a5"
      },
      "id": "aGJdEafPpcZB",
      "execution_count": 21,
=======
        "outputId": "928c592a-dce8-4d56-8bfa-362c1de3d880"
      },
      "id": "aGJdEafPpcZB",
      "execution_count": null,
>>>>>>> e55c210 (added updated files)
      "outputs": [
        {
          "output_type": "display_data",
          "data": {
            "text/plain": [
              "<Figure size 500x400 with 2 Axes>"
            ],
<<<<<<< HEAD
            "image/png": "iVBORw0KGgoAAAANSUhEUgAAAcQAAAGJCAYAAAAUmUOtAAAAOnRFWHRTb2Z0d2FyZQBNYXRwbG90bGliIHZlcnNpb24zLjEwLjAsIGh0dHBzOi8vbWF0cGxvdGxpYi5vcmcvlHJYcgAAAAlwSFlzAAAPYQAAD2EBqD+naQAAV5pJREFUeJzt3XdcVfX/wPHXBeGCIEtlpSKOUBw4U3JPRDRX5UrB1NLQDEeG5TYxzD2z3KGmZmaaAzUciWYmbslNpuAG2ev8/vDH/Xa9qOyr3Pfz+ziPR/dzPuec9zneL+/7GecclaIoCkIIIYSBM9J3AEIIIcTLQBKiEEIIgSREIYQQApCEKIQQQgCSEIUQQghAEqIQQggBSEIUQgghAEmIQgghBCAJUQghhAAkIRZLly5don379lhbW6NSqdi6dWuB7v/69euoVCpWrVpVoPt9lbVs2ZKWLVvqO4xn8vPzo2LFivoOQ4iXmiTEQnLlyhU+/PBDKlWqhJmZGVZWVjRp0oR58+aRlJRUqMf29fXlzJkzfPnll6xdu5YGDRoU6vGKkp+fHyqVCisrq2yv46VLl1CpVKhUKr7++utc7//WrVtMmjSJiIiIAoi2aFSsWJFOnTrpO4xCFR8fz8SJE6lZsyYWFhaULl2aOnXqMGLECG7dugVA7dq1qVChAs97GmWTJk1wcHAgPT1d88NOpVIxbdq0bOv37dsXlUqFpaVloZyXeMkoosBt375dMTc3V2xsbJSPP/5YWbZsmbJw4UKlV69eiomJiTJ48OBCO3ZiYqICKJ9//nmhHSMzM1NJSkpS0tPTC+0Yz+Lr66uUKFFCMTY2Vn744Qed9RMnTlTMzMwUQJk5c2au93/8+HEFUFauXJmr7VJSUpSUlJRcH68guLi4KD4+Ps+tk5qaqiQnJxdRRAUrNTVVqVu3rmJubq4MGTJEWbp0qfL1118rAwYMUMqUKaP89ttviqIoyowZMxRAOXDgQLb7uXbtmqJSqZThw4drPgOKmZmZ4u7urlM/Pj5esbCwUMzMzBQLC4tCOz/x8iih12xcDF27do1evXrh4uLC/v37cXJy0qzz9/fn8uXL7Nixo9COf/fuXQBsbGwK7RgqlQozM7NC2/+LqNVqmjRpwvr163n33Xe11q1btw4fHx9+/PHHIoklMTGRkiVLYmpqWiTHyysTExN9h/BcycnJmJqaYmSk22m1detWTp48SUhICH369NHZLjU1FYA+ffoQGBjIunXraN68uc5+1q9fj6Io9O3bV6u8Y8eObNmyhVOnTuHh4aEp//nnn0lNTaVDhw7s37+/IE5TvOSky7SABQcHEx8fz/Lly7WSYZYqVaowYsQIzef09HSmTp1K5cqVUavVVKxYkXHjxpGSkqK1XVa32OHDh3njjTcwMzOjUqVKrFmzRlNn0qRJuLi4ADBmzBhUKpVm3OhZY0iTJk1CpVJplYWGhtK0aVNsbGywtLTEzc2NcePGadY/awxx//79NGvWDAsLC2xsbOjSpQsXLlzI9niXL1/Gz88PGxsbrK2tGTBgAImJic++sE/p06cPO3fu5NGjR5qy48ePc+nSJZ0/mgAPHjxg9OjR1KpVC0tLS6ysrPD29ubUqVOaOmFhYTRs2BCAAQMGaLrTss6zZcuW1KxZkxMnTtC8eXNKliypuS5PjyH6+vpiZmamc/5eXl7Y2tpquvmKytP//ln/hl9//TXLli3TfP8aNmzI8ePHdba/ePEib7/9NnZ2dpiZmdGgQQO2bdumVScn1xieXGeVSsWGDRv44osveO211yhZsiRxcXHZxn7lyhXgSXfn07KGIwDKly9P8+bN2bx5M2lpaTp1161bR+XKlWnUqJFWuaenJ66urqxbt06rPCQkhA4dOmBnZ5dtXKL4kYRYwH755RcqVarEm2++maP6gwYNYsKECdSrV485c+bQokULgoKC6NWrl07dy5cv8/bbb9OuXTtmzZqFra0tfn5+nDt3DoDu3bszZ84cAHr37s3atWuZO3duruI/d+4cnTp1IiUlhSlTpjBr1izeeustfv/99+dut3fvXry8vLhz5w6TJk1i5MiRHDlyhCZNmnD9+nWd+u+++y6PHz8mKCiId999l1WrVjF58uQcx9m9e3dUKhVbtmzRlK1bt45q1apRr149nfpXr15l69atdOrUidmzZzNmzBjOnDlDixYtNMmpevXqTJkyBYAPPviAtWvXsnbtWq3Wxv379/H29qZOnTrMnTuXVq1aZRvfvHnzKFu2LL6+vmRkZADwzTffsGfPHhYsWICzs3OOz7UwrVu3jpkzZ/Lhhx8ybdo0rl+/Tvfu3bUSyrlz52jcuDEXLlzgs88+Y9asWVhYWNC1a1d++uknTb2cXOP/mjp1Kjt27GD06NFMnz79ma3srB95a9asee74IDwZ87t//z67d+/WKj9z5gxnz57VaR1m6d27Nxs2bNDs/969e+zZsyfbH1eiGNNzl22xEhsbqwBKly5dclQ/IiJCAZRBgwZplY8ePVoBlP3792vKXFxcFEA5ePCgpuzOnTuKWq1WRo0apSnLGhd5evzM19dXcXFx0Ylh4sSJyn+/BnPmzFEA5e7du8+MO+sY/x1nq1OnjmJvb6/cv39fU3bq1CnFyMhI6d+/v87x3n//fa19duvWTSlduvQzj/nf88gaz3n77beVNm3aKIqiKBkZGYqjo6MyefLkbK9BcnKykpGRoXMearVamTJliqbseWOILVq0UABl6dKl2a5r0aKFVtnu3bsVQJk2bZpy9epVxdLSUunatesLzzG3cjKG+PS/f9Y1Kl26tPLgwQNN+c8//6wAyi+//KIpa9OmjVKrVi2tMcjMzEzlzTffVKpWraopy+k1/u233xRAqVSpkpKYmPjC80tMTFTc3NwUQHFxcVH8/PyU5cuXKzExMTp1Hzx4oKjVaqV3795a5Z999pkCKJGRkTrXYObMmcrZs2cVQDl06JCiKIqyaNEixdLSUklISND6zoniTVqIBSiry6dUqVI5qv/rr78CMHLkSK3yUaNGAeiMNbq7u9OsWTPN57Jly+Lm5sbVq1fzHPPTssYef/75ZzIzM3O0ze3bt4mIiMDPz0+re6l27dq0a9dOc57/NWTIEK3PzZo14/79+8/sNstOnz59CAsLIzo6mv379xMdHf3MX/RqtVozPpWRkcH9+/c13cF//fVXjo+pVqsZMGBAjuq2b9+eDz/8kClTptC9e3fMzMz45ptvcnysotCzZ09sbW01n7O+X1nfqQcPHrB//35Ni/7evXvcu3eP+/fv4+XlxaVLl/j333+B3F9jX19fzM3NXxijubk5x44dY8yYMQCsWrWKgQMH4uTkxPDhw7WGF2xtbenYsSPbtm0jISEBAEVR2LBhAw0aNOD111/P9hg1atSgdu3arF+/HnjScu7SpQslS5Z8YXyi+JCEWICyxjIeP36co/o3btzAyMiIKlWqaJU7OjpiY2PDjRs3tMorVKigsw9bW1sePnyYx4h19ezZkyZNmjBo0CAcHBzo1asXGzdufG5yzIrTzc1NZ1316tW5d++e5o9TlqfPJeuPcm7OpWPHjpQqVYoffviBkJAQGjZsqHMts2RmZjJnzhyqVq2KWq2mTJkylC1bltOnTxMbG5vjY7722mu5mkDz9ddfY2dnR0REBPPnz8fe3v6F29y9e5fo6GjNEh8fn+Pj5daL/h0uX76MoiiMHz+esmXLai0TJ04E4M6dO0Dur7Grq2uO47S2tiY4OJjr169z/fp1li9fjpubGwsXLmTq1Kladfv27UtCQgI///wzAEeOHOH69evP7C7N0qdPHzZt2sTly5c5cuSIdJcaIEmIBcjKygpnZ2fOnj2bq+2entTyLMbGxtmWKy8YV3neMbLGt7KYm5tz8OBB9u7dS79+/Th9+jQ9e/akXbt2OnXzIz/nkkWtVtO9e3dWr17NTz/99Nw/YNOnT2fkyJE0b96c77//nt27dxMaGkqNGjVy3BIGctSi+a+TJ09qEsaZM2dytE3Dhg1xcnLSLHm5nzKnXvTvkHVtRo8eTWhoaLZL1o+Q3F7j3F7LLC4uLrz//vv8/vvv2NjYEBISorW+U6dOWFtbaybJrFu3DmNj42zH5f+rd+/e3Lt3j8GDB1O6dGnat2+fp/jEq0tuuyhgnTp1YtmyZYSHh+Pp6fncui4uLmRmZnLp0iWqV6+uKY+JieHRo0eayQQFwdbWVmtGZpanW6EARkZGtGnThjZt2jB79mymT5/O559/zm+//Ubbtm2zPQ+AyMhInXUXL16kTJkyWFhY5P8kstGnTx9WrFiBkZHRc//gbd68mVatWrF8+XKt8kePHlGmTBnN55z+OMmJhIQEBgwYgLu7O2+++SbBwcF069ZNM5P1WUJCQrQeOlCpUqUCiym3so5tYmKS7b/9f+X0GhcUW1tbKleurPMDVK1W8/bbb7NmzRpiYmLYtGkTrVu3xtHR8bn7q1ChAk2aNCEsLIyhQ4dSooT8eTQ00kIsYJ9++ikWFhYMGjSImJgYnfVXrlxh3rx5wJMuP0BnJujs2bMB8PHxKbC4KleuTGxsLKdPn9aU3b59W2uWIDwZM3panTp1AHRuBcni5OREnTp1WL16tVbSPXv2LHv27NGcZ2Fo1aoVU6dOZeHChc/9g2dsbKzT+ty0aZNm/CtLVuLO7sdDbo0dO5aoqChWr17N7NmzqVixIr6+vs+8jlmaNGlC27ZtNYs+E6K9vT0tW7bkm2++4fbt2zrrs+57hZxf49w6deoU9+7d0ym/ceMG58+fz7arvm/fvqSlpfHhhx9y9+7dF3aXZpk2bRoTJ05k+PDh+YpZvJrkJ1ABq1y5MuvWraNnz55Ur16d/v37U7NmTVJTUzly5AibNm3Cz88PAA8PD3x9fVm2bBmPHj2iRYsW/PHHH6xevZquXbs+c0p/XvTq1YuxY8fSrVs3Pv74YxITE1myZAmvv/661oSHKVOmcPDgQXx8fHBxceHOnTssXryYcuXK0bRp02fuf+bMmXh7e+Pp6cnAgQNJSkpiwYIFWFtbM2nSpAI7j6cZGRnxxRdfvLBep06dmDJlCgMGDODNN9/kzJkzhISE6CSbypUrY2Njw9KlSylVqhQWFhY0atQoV+Nd8OSezMWLFzNx4kTNbSArV66kZcuWjB8/nuDg4Fzt70UuX76c7ePH6tatm+8fVosWLaJp06bUqlWLwYMHU6lSJWJiYggPD+fmzZua+wxzeo1zKzQ0lIkTJ/LWW2/RuHFjLC0tuXr1KitWrCAlJSXb71eLFi0oV64cP//8M+bm5nTv3j1Hx2rRogUtWrTIV7ziFabHGa7F2t9//60MHjxYqVixomJqaqqUKlVKadKkibJgwQKt6etpaWnK5MmTFVdXV8XExEQpX768EhgYqPOYrWdNrX96uv+zbrtQFEXZs2ePUrNmTcXU1FRxc3NTvv/+e53bLvbt26d06dJFcXZ2VkxNTRVnZ2eld+/eyt9//61zjKdvTdi7d6/SpEkTxdzcXLGyslI6d+6snD9/XqtO1vGevq1j5cqVCqBcu3btmddUUZQcTYF/1m0Xo0aNUpycnBRzc3OlSZMmSnh4eLa3S/z888+Ku7u7UqJECa3zbNGihVKjRo1sj/nf/cTFxSkuLi5KvXr1lLS0NK16AQEBipGRkRIeHv7cc8iNrFtyslsGDhyoKMqzb7vI7nsCKBMnTtQqu3LlitK/f3/F0dFRMTExUV577TWlU6dOyubNmzV1cnqNs2672LRpU47O7+rVq8qECROUxo0bK/b29kqJEiWUsmXLKj4+Plq3Jj1tzJgxCqC8++672a5/3jX4L7ntwnCoFCUXsxiEEEKIYkrGEIUQQggkIQohhBCAJEQhhBACkIQohBBCAJIQhRBCCEASohBCCAFIQhRCCCGAYvqkGvO6w/QdgjAQD48v1HcIwkCYFfBf6/z8nUw6WTy/98UyIQohhHgBlXQQPk0SohBCGKICfLNLcSEJUQghDJG0EHXIFRFCCCGQFqIQQhgm6TLVIQlRCCEMkXSZ6pCEKIQQhkhaiDokIQohhCGSFqIOSYhCCGGIpIWoQ34iCCGEEEgLUQghDJN0meqQhCiEEIZIukx1SEIUQghDJC1EHZIQhRDCEEkLUYckRCGEMETSQtQhV0QIIYRAWohCCGGYpIWoQxKiEEIYIiMZQ3yaJEQhhDBE0kLUIQlRCCEMkcwy1SEJUQghDJG0EHXIFRFCCCGQFqIQQhgm6TLVIQlRCCEMkXSZ6pCEKIQQhkhaiDokIQohhCGSFqIOSYhCCGGIpIWoQ34iCCGEEEgLUQghDJN0meqQhCiEEIZIukx1SEIUQghDJC1EHZIQhRDCEElC1CFXRAghDJFKlfclF5YsWULt2rWxsrLCysoKT09Pdu7cqVnfsmVLVCqV1jJkyBCtfURFReHj40PJkiWxt7dnzJgxpKena9UJCwujXr16qNVqqlSpwqpVq3J9SaSFKIQQotCUK1eOGTNmULVqVRRFYfXq1XTp0oWTJ09So0YNAAYPHsyUKVM025QsWVLz3xkZGfj4+ODo6MiRI0e4ffs2/fv3x8TEhOnTpwNw7do1fHx8GDJkCCEhIezbt49Bgwbh5OSEl5dXjmNVKYqiFNB5vzTM6w7TdwjCQDw8vlDfIQgDYVbAzRfzLt/kedtHG/1ISUnRKlOr1ajV6hxtb2dnx8yZMxk4cCAtW7akTp06zJ07N9u6O3fupFOnTty6dQsHBwcAli5dytixY7l79y6mpqaMHTuWHTt2cPbsWc12vXr14tGjR+zatSvH5yVdpkIIYYjy0WUaFBSEtbW11hIUFPTCQ2ZkZLBhwwYSEhLw9PTUlIeEhFCmTBlq1qxJYGAgiYmJmnXh4eHUqlVLkwwBvLy8iIuL49y5c5o6bdu21TqWl5cX4eHhubok0mUqhBCGKB+TagIDAxk5cqRW2fNah2fOnMHT05Pk5GQsLS356aefcHd3B6BPnz64uLjg7OzM6dOnGTt2LJGRkWzZsgWA6OhorWQIaD5HR0c/t05cXBxJSUmYm5vn6LwkIQohhCHKx32IuekeBXBzcyMiIoLY2Fg2b96Mr68vBw4cwN3dnQ8++EBTr1atWjg5OdGmTRuuXLlC5cqV8xxjXkiXqRBCGKCnZ3bmZsktU1NTqlSpQv369QkKCsLDw4N58+ZlW7dRo0YAXL58GQBHR0diYmK06mR9dnR0fG4dKyurHLcOQRKiEEKIIpaZmakzKSdLREQEAE5OTgB4enpy5swZ7ty5o6kTGhqKlZWVptvV09OTffv2ae0nNDRUa5wyJ6TLVAghDFBeWnp5ERgYiLe3NxUqVODx48esW7eOsLAwdu/ezZUrV1i3bh0dO3akdOnSnD59moCAAJo3b07t2rUBaN++Pe7u7vTr14/g4GCio6P54osv8Pf313TbDhkyhIULF/Lpp5/y/vvvs3//fjZu3MiOHTtyFaskRCGEMERF9CjTO3fu0L9/f27fvo21tTW1a9dm9+7dtGvXjn/++Ye9e/cyd+5cEhISKF++PD169OCLL77QbG9sbMz27dsZOnQonp6eWFhY4Ovrq3XfoqurKzt27CAgIIB58+ZRrlw5vvvuu1zdgwhyH6IQ+SL3IYqiUtD3IVq+uyrP28Zv9CuwOF4m0kIUQggDVFRdpq8SSYhCCGGAJCHqklmmQgghBNJCFEIIgyQtRF2SEIUQwhBJPtQhCVEIIQyQtBB1SUIUQggDJAlR10uREKOiorhx4waJiYmULVuWGjVq5OrBsUIIIXJHEqIuvSXE69evs2TJEjZs2MDNmzf57/MBTE1NadasGR988AE9evTAyEgmwwohhChcesk0H3/8MR4eHly7do1p06Zx/vx5YmNjSU1NJTo6ml9//ZWmTZsyYcIEateuzfHjx/URphBCFFtF+baLV4VeWogWFhZcvXqV0qVL66yzt7endevWtG7dmokTJ7Jr1y7++ecfGjZsqIdIhRCimCq+eS3P9JIQg4KCcly3Q4cOhRiJEEIYpuLc0surl2JSTWxsLNHR0cCTFz1aW1vrOSIhhCjeJCHq0utsle+++w53d3fs7Oxwd3fX+u/ly5frMzQhhCjWZAxRl95aiDNnzmTSpEl8/PHHeHl54eDgAEBMTAx79uxhxIgRPHz4kNGjR+srRCGEEAZEbwlx4cKFrFy5knfffVervHr16rRs2RIPDw/GjBkjCVEIIQpD8W3o5ZneEuKdO3eoVavWM9fXqlWLe/fuFWFEQghhOIpz12de6W0MsWHDhsyYMYP09HSddRkZGXz11Vdyq4UQQhQSGUPUpdcuUy8vLxwdHWnevLnWGOLBgwcxNTVlz549+gpPCCGKteKc2PJKbwmxdu3a/P3333z//fccPXqUq1evAk9uu5g2bRp9+vTByspKX+EJIUSxJglRl17vQyxVqhRDhw5l6NCh+gxDCCGE0M8YYkJCQqHWF0II8QKqfCzFlF4SYpUqVZgxYwa3b99+Zh1FUQgNDcXb25v58+cXYXRCCFH8yaQaXXrpMg0LC2PcuHFMmjQJDw8PGjRogLOzM2ZmZjx8+JDz588THh5OiRIlCAwM5MMPP9RHmEIIUWwV58SWV3pJiG5ubvz4449ERUWxadMmDh06xJEjR0hKSqJMmTLUrVuXb7/9Fm9vb4yNjfURohBCFGuSEHXpdVJNhQoVGDVqFKNGjdJnGEIIIcTL8bYLIYQQRUwaiDokIRYTg99pyuC3m+HibAfAhavRTF+2kz2/nwfAtVwZZgR0w7NuJdQmJQg9coGRX23izoPHWvvp0LQG4z7wpmZVZ5JT0zl84hLvjvxWs76+ewWmftyFuu7lURT48+wNPp+3lTN//1t0Jyteesu//YZ9oXu4du0qajMz6tSpyycjR1PRtZKmzuaNP7Dz1+1cOH+OhIQEDoUfl3uPi5B0merS6+ufRMH5N+YR4xf8zJt9g2nSdyZhf/zNpjkfUL2SIyXNTNm+2B9FUfD+YAGtB8zB1MSYH+d9qPV/iq5t6rB8Wn/WbDvKGz1n0HrAbH7Y+admvYW5KT8v8uef6Ic07/c1bQbMJj4xmW2L/ClRQr5K4n/+PP4HPXv3Ze36jXzz7UrS09MZMnggiYmJmjrJyUm82aQZAwcP0WOkhquoZpkuWbKE2rVrY2VlhZWVFZ6enuzcuVOzPjk5GX9/f0qXLo2lpSU9evQgJiZGax9RUVH4+PhQsmRJ7O3tGTNmjM5jP8PCwqhXrx5qtZoqVaqwatWqXF8TaSEWE78ePKv1edKiXxj8TlPeqO2Ks70NLs6ladz7Kx4nJAMwaMJabh8IpuUbr/PbsUiMjY34ekwPxs3dyuqt4Zr9XLwarflvN1dHSttYMHXJdm7GPALgy2928uemcVRwsuPqP/IwdvHEkmXa7zOd8uUMWjXz5ML5c9Rv8OQZxe/19wPg+B/Hijo8QdG1EMuVK8eMGTOoWrUqiqKwevVqunTpwsmTJ6lRowYBAQHs2LGDTZs2YW1tzbBhw+jevTu///478OTZ1j4+Pjg6OnLkyBFu375N//79MTExYfr06QBcu3YNHx8fhgwZQkhICPv27WPQoEE4OTnh5eWV41jlZ30xZGSk4h2v+liYm3Ls9DXUpiVQFIWU1P/9okpOSSczU+HNOpUBqFutPK852JKZqRC+fixX93zJ1oVDca/spNnm7+sx3HsYj2/XNzEpYYyZ2gS/rp5cuHqbG7ceFPl5ildH/OMnXfNW1tZ6jkRkyU8LMSUlhbi4OK0lJSUl2+N07tyZjh07UrVqVV5//XW+/PJLLC0tOXr0KLGxsSxfvpzZs2fTunVr6tevz8qVKzly5AhHjx4FYM+ePZw/f57vv/+eOnXq4O3tzdSpU1m0aBGpqakALF26FFdXV2bNmkX16tUZNmwYb7/9NnPmzMnVNXkpEuKhQ4d477338PT05N9/n4xFrV27lsOHD+s5sldLjSrO3P19FrHH5jL/8570HPUtF69G88eZ6yQkpfLliC6Ym5lQ0syUGSO7UaKEMY5lnozZuJYrA8AXQzry1Xe76TFiKY/iktj97QhsrUoCEJ+YgtfgefTu2JCHR+dw7/dZtHuzOl2HLSYjI1Nv5y1ebpmZmQR/NZ06detRterr+g5HFICgoCCsra21lqCgoBdul5GRwYYNG0hISMDT05MTJ06QlpZG27ZtNXWqVatGhQoVCA9/0lMVHh5OrVq1NC+AAPDy8iIuLo5z585p6vx3H1l1svaRU3pPiD/++CNeXl6Ym5tz8uRJza+M2NhYTXP4ebL7paJkZhR22C+lv6/H0KhXEM37f823mw7z7ZR+VKvkyL2H8fT9dDkdm9fk3u+ziDk0E2tLc/46H0WmogBg9P/dJ199t5ut+yI4eeEfPpj4PQoK3dvVBcBMbcLSiX0JP3WVFv2/pvWA2Zy/cpst84dipjbR23mLl9v0aZO5cukSwV/n7te6KGT5eHRbYGAgsbGxWktgYOAzD3XmzBksLS1Rq9UMGTKEn376CXd3d6KjozE1NcXGxkarvoODA9HRT4ZroqOjtZJh1vqsdc+rExcXR1JSUo4vid4T4rRp01i6dCnffvstJib/+6PapEkT/vrrrxdun90vlfSYE4UZ8ksrLT2Dq//c4+SFf5iwYBtn/v4X/94tAdh39CI13ppMhTaBlGv1GQPHr8HZ3obrN5+M+92+FwvAxav/e5xealo612/ep7zjk5mrPb0bUMHZjg8mfs+J81H8ceY6voGrqPhaaTq3rF20JyteCdOnTeHggTC+XbkaB0dHfYcj/iM/XaZqtVozSSZrUavVzzyWm5sbERERHDt2jKFDh+Lr68v58+eL8GxzRu8JMTIykubNm+uUW1tb8+jRoxdun90vlRIO9Qsh0lePkUqF2lR73tT9RwnExifRouHr2NtZsv3AGQBOXviH5JQ0qlb836+sEiWMqOBsR9TtJ+ODJc1MycxUUP6/VQmQqSgoyv9amELAk2cRT582hf37Qvl2xWrKlSuv75DEU4ryWaampqZUqVKF+vXrExQUhIeHB/PmzcPR0ZHU1FSdv/UxMTE4/v8PKEdHR51Zp1mfX1THysoKc3PzHMep94To6OjI5cuXdcoPHz5MpUqVstlCW3a/VFRGhve4tynD36JJvcpUcLKjRhVnpgx/i+YNqrLh1ye3TfR7qzFv1KqIa7ky9OrYkJDggSwI+Y1LN+4A8Dghme82H2b8kI60aVyNqi72zB/XC4AtoU9a6vuOXsTWqiRzA9/FzdWB6pUcWTbpPdIzMjjw59/6OXHxUpo+dTK/bt/GjOBZWJS04N7du9y7e5fk5GRNnXt373LxwgX+iYoC4PKlv7l44QKxOfghLPJPpcr7kl+ZmZmkpKRQv359TExM2Ldvn2ZdZGQkUVFReHp6AuDp6cmZM2e4c+eOpk5oaChWVla4u7tr6vx3H1l1svaRU3q/7WLw4MGMGDGCFStWoFKpuHXrFuHh4YwePZrx48frO7xXRlk7S5ZP7Y9jGSti45M5e+lfOn+0mP3HLgLwekV7pgx/Czvrkty49YDg5buZ//1+rX0Ezv2J9IxMlk/rj7nahONnb+D9wXwePX7SB//39Rh6jPiGzz/0Jmz1KDIzFU5dvEkX/8VE34sr8nMWL6+NP6wHYKBfP63yKdOC6NKtOwCbNm5g6eKFmnUD+vfVqSMKT1HddhEYGIi3tzcVKlTg8ePHrFu3jrCwMHbv3o21tTUDBw5k5MiR2NnZYWVlxfDhw/H09KRx48YAtG/fHnd3d/r160dwcDDR0dF88cUX+Pv7a7pphwwZwsKFC/n00095//332b9/Pxs3bmTHjh25ilWl/Lf/Sw8URWH69OkEBQVpbtpVq9WMHj2aqVOn5mmf5nWHFWSIQjzTw+MLX1xJiAJgVsDNl6pjduV520szO+S47sCBA9m3bx+3b9/G2tqa2rVrM3bsWNq1awc8uTF/1KhRrF+/npSUFLy8vFi8eLGmOxTgxo0bDB06lLCwMCwsLPD19WXGjBmUKPG/ixIWFkZAQADnz5+nXLlyjB8/Hj8/v1ydl94TYlpaGiYmJqSmpnL58mXi4+Nxd3fH0tKSe/fuUaZMmVzvUxKiKCqSEEVRKeiE+PqneU+IfwfnPCG+SvQ+htirVy8URcHU1BR3d3feeOMNLC0tiYmJoWXLlvoOTwghiiV5QbAuvSfEqKgoBg0apFV2+/ZtWrZsSbVq1fQUlRBCFG/6nFTzstJ7Qvz11185cuQII0eOBODWrVu0bNmSWrVqsXHjRj1HJ4QQxZORkSrPS3Gl91mmZcuWZc+ePTRt2hSA7du3U69ePUJCQjAy0nu+FkKIYqk4t/TySu8JEaB8+fKEhobSrFkz2rVrx9q1a4t1P7UQQoiXj14Soq2tbbYJLzExkV9++YXSpUtryh48kLcoCCFEQZNGhy69JMS5c+fq47BCCCH+n+RDXXpJiL6+vvo4rBBCiP8nLURdL8UYYpbk5GTNCx+zWFlZ6SkaIYQoviQh6tL7NM6EhASGDRuGvb09FhYW2Nraai1CCCEKntyHqEvvCfHTTz9l//79LFmyBLVazXfffcfkyZNxdnZmzZo1+g5PCCGEgdB7l+kvv/zCmjVraNmyJQMGDKBZs2ZUqVIFFxcXQkJC6Nu3r75DFEKIYke6THXpvYX44MEDzXsPraysNLdZNG3alIMHD+ozNCGEKLaky1SX3hNipUqVuHbtGgDVqlXTPK7tl19+wcbGRo+RCSFE8SUP99al94Q4YMAATp06BcBnn33GokWLMDMzIyAggDFjxug5OiGEKJ6khahLb2OIV69exdXVlYCAAE1Z27ZtuXjxIidOnKBKlSrUrl1bX+EJIUSxVpxbenmltxZi1apVuXv3ruZzz549iYmJwcXFhe7du0syFEIIUaT0lhAVRdH6/Ouvv5KQkKCnaIQQwrBIl6kuvd92IYQQouhJl6kuvSXE7GYryT+QEEIUDflzq0tvCVFRFPz8/FCr1cCT55gOGTIECwsLrXpbtmzRR3hCCFGsSQNEl94S4tNvvHjvvff0FIkQQhgeyYe69JYQV65cqa9DCyGEEDpkUo0QQhgg6TLVJQlRCCEMkORDXZIQhRDCAEkLUZckRCGEMECSEHVJQhRCCAMk+VCX3t92IYQQovgKCgqiYcOGlCpVCnt7e7p27UpkZKRWnZYtW+q8YmrIkCFadaKiovDx8aFkyZLY29szZswY0tPTteqEhYVRr1491Go1VapUYdWqVbmKVRKiEEIYoKJ6H+KBAwfw9/fn6NGjhIaGkpaWRvv27XWeXT148GBu376tWYKDgzXrMjIy8PHxITU1lSNHjrB69WpWrVrFhAkTNHWuXbuGj48PrVq1IiIigk8++YRBgwaxe/fuHMcqXaZCCGGA8tNlmpKSQkpKilaZWq3WPHnsv3bt2qX1edWqVdjb23PixAmaN2+uKS9ZsiSOjo7ZHm/Pnj2cP3+evXv34uDgQJ06dZg6dSpjx45l0qRJmJqasnTpUlxdXZk1axYA1atX5/Dhw8yZMwcvL68cnZe0EIUQwgDlp4UYFBSEtbW11hIUFJSj48bGxgJgZ2enVR4SEkKZMmWoWbMmgYGBJCYmataFh4dTq1YtHBwcNGVeXl7ExcVx7tw5TZ22bdtq7dPLy4vw8PAcXxNpIQohhAHKTwsxMDCQkSNHapVl1zp8WmZmJp988glNmjShZs2amvI+ffrg4uKCs7Mzp0+fZuzYsURGRmqeZR0dHa2VDAHN5+jo6OfWiYuLIykpCXNz8xfGJwlRCCEMkFE+MuKzukdfxN/fn7Nnz3L48GGt8g8++EDz37Vq1cLJyYk2bdpw5coVKleunOc4c0u6TIUQQhS6YcOGsX37dn777TfKlSv33LqNGjUC4PLlywA4OjoSExOjVSfrc9a447PqWFlZ5ah1CJIQhRDCIKlUeV9yQ1EUhg0bxk8//cT+/ftxdXV94TYREREAODk5AeDp6cmZM2e4c+eOpk5oaChWVla4u7tr6uzbt09rP6GhoXh6euY4VkmIQghhgIrqtgt/f3++//571q1bR6lSpYiOjiY6OpqkpCQArly5wtSpUzlx4gTXr19n27Zt9O/fn+bNm1O7dm0A2rdvj7u7O/369ePUqVPs3r2bL774An9/f03X7ZAhQ7h69SqffvopFy9eZPHixWzcuJGAgIAcxyoJUQghDJCRKu9LbixZsoTY2FhatmyJk5OTZvnhhx8AMDU1Ze/evbRv355q1aoxatQoevTowS+//KLZh7GxMdu3b8fY2BhPT0/ee+89+vfvz5QpUzR1XF1d2bFjB6GhoXh4eDBr1iy+++67HN9yAaBSFEXJ3em9/MzrDtN3CMJAPDy+UN8hCANhVsBTIDsu/SPP2/465I0CjOTlIbNMhRDCAMmzTHVJl6kQQgiBtBCFEMIgqZAm4tMkIQohhAHK7eQYQyAJUQghDJC8IFiXJEQhhDBAkg91SUIUQggDlJ9nmRZXMstUCCGEQFqIQghhkKSBqEsSohBCGCCZVKNLEqIQQhggyYe6JCEKIYQBkkk1uiQhCiGEAZJ0qCtHCXHbtm053uFbb72V52CEEEIIfclRQuzatWuOdqZSqcjIyMhPPEIIIYqATKrRlaOEmJmZWdhxCCGEKELyLFNdMoYohBAGSFqIuvKUEBMSEjhw4ABRUVGkpqZqrfv4448LJDAhhBCFR/KhrlwnxJMnT9KxY0cSExNJSEjAzs6Oe/fuUbJkSezt7SUhCiHEK0BaiLpy/SzTgIAAOnfuzMOHDzE3N+fo0aPcuHGD+vXr8/XXXxdGjEIIIUShy3VCjIiIYNSoURgZGWFsbExKSgrly5cnODiYcePGFUaMQgghCpiRKu9LcZXrhGhiYoKR0ZPN7O3tiYqKAsDa2pp//vmnYKMTQghRKFQqVZ6X4irXY4h169bl+PHjVK1alRYtWjBhwgTu3bvH2rVrqVmzZmHEKIQQooAV37SWd7luIU6fPh0nJycAvvzyS2xtbRk6dCh3795l2bJlBR6gEEKIgmekUuV5Ka5y3UJs0KCB5r/t7e3ZtWtXgQYkhBBC6IPcmC+EEAaoGDf08izXCdHV1fW5g6pXr17NV0BCCCEKX3GeHJNXuU6In3zyidbntLQ0Tp48ya5duxgzZkxBxSWEEKIQST7UletJNSNGjNBaRo8eTUhICFOmTCEyMrIwYhRCCFHAimpSTVBQEA0bNqRUqVLY29vTtWtXnVyRnJyMv78/pUuXxtLSkh49ehATE6NVJyoqCh8fH81T0caMGUN6erpWnbCwMOrVq4daraZKlSqsWrUqd9ckV7Wfw9vbmx9//LGgdieEEKIQqVR5X3LjwIED+Pv7c/ToUUJDQ0lLS6N9+/YkJCRo6gQEBPDLL7+wadMmDhw4wK1bt+jevbtmfUZGBj4+PqSmpnLkyBFWr17NqlWrmDBhgqbOtWvX8PHxoVWrVkRERPDJJ58waNAgdu/enfNroiiKkrvTy15wcDCLFy/m+vXrBbG7fDGvO0zfIQgD8fD4Qn2HIAyEWQFPgfxoy/k8bzvHpzIpKSlaZWq1GrVa/cJt7969i729PQcOHKB58+bExsZStmxZ1q1bx9tvvw3AxYsXqV69OuHh4TRu3JidO3fSqVMnbt26hYODAwBLly5l7Nix3L17F1NTU8aOHcuOHTs4e/as5li9evXi0aNHOb4bItctxLp161KvXj3NUrduXZycnBg3bpw8uk0IIV4R+XlSTVBQENbW1lpLUFBQjo4bGxsLgJ2dHQAnTpwgLS2Ntm3baupUq1aNChUqEB4eDkB4eDi1atXSJEMALy8v4uLiOHfunKbOf/eRVSdrHzmR698cXbp00ZqdZGRkRNmyZWnZsiXVqlXL7e4KhfxqF0XFtqH0RoiikXSyYP+u5We8LDAwkJEjR2qV5aR1mJmZySeffEKTJk00TzaLjo7G1NQUGxsbrboODg5ER0dr6vw3GWatz1r3vDpxcXEkJSVhbm7+wvhynRAnTZqU202EEEK8ZPJz20VOu0ef5u/vz9mzZzl8+HCej12Ycv0jwdjYmDt37uiU379/H2Nj4wIJSgghROEq6rddDBs2jO3bt/Pbb79Rrlw5TbmjoyOpqak8evRIq35MTAyOjo6aOk/POs36/KI6VlZWOWodQh4S4rPm4KSkpGBqaprb3QkhhNCDokqIiqIwbNgwfvrpJ/bv34+rq6vW+vr162NiYsK+ffs0ZZGRkURFReHp6QmAp6cnZ86c0WqMhYaGYmVlhbu7u6bOf/eRVSdrHzmR4y7T+fPnA0+a2d999x2WlpaadRkZGRw8ePClGUMUQgjxcvD392fdunX8/PPPlCpVSjPmZ21tjbm5OdbW1gwcOJCRI0diZ2eHlZUVw4cPx9PTk8aNGwPQvn173N3d6devH8HBwURHR/PFF1/g7++v6bodMmQICxcu5NNPP+X9999n//79bNy4kR07duQ41hzfdpGV1W/cuEG5cuW0ukdNTU2pWLEiU6ZMoVGjRjk+eGFJTn9xHSEKgkyqEUWloCfVjPol7w9SmdXZLcd1nzVWuXLlSvz8/IAnN+aPGjWK9evXk5KSgpeXF4sXL9Z0h8KT3DN06FDCwsKwsLDA19eXGTNmUKLE/9p1YWFhBAQEcP78ecqVK8f48eM1x8hRrLm9D7FVq1Zs2bIFW1vb3GxWpCQhiqIiCVEUlYJOiGO25z0hzuyU84T4Ksn1LNPffvutMOIQQghRhORZprpyPammR48efPXVVzrlwcHBvPPOOwUSlBBCiMIlLwjWleuEePDgQTp27KhT7u3tzcGDBwskKCGEEIXLKB9LcZXrc4uPj8/29goTExPi4uIKJCghhBCiqOU6IdaqVYsffvhBp3zDhg2a+0GEEEK83IrqbRevklxPqhk/fjzdu3fnypUrtG7dGoB9+/axbt06Nm/eXOABCiGEKHjFeSwwr3KdEDt37szWrVuZPn06mzdvxtzcHA8PD/bv3695erkQQoiXm+RDXXl6w5aPjw8+Pj4AxMXFsX79ekaPHs2JEyfIyMgo0ACFEEIUvLw+k7Q4y/OEoYMHD+Lr64uzszOzZs2idevWHD16tCBjE0IIUUjktgtduWohRkdHs2rVKpYvX05cXBzvvvsuKSkpbN26VSbUCCGEeKXluIXYuXNn3NzcOH36NHPnzuXWrVssWLCgMGMTQghRSGSWqa4ctxB37tzJxx9/zNChQ6latWphxiSEEKKQyRiirhy3EA8fPszjx4+pX78+jRo1YuHChdy7d68wYxNCCFFIVPn4X3GV44TYuHFjvv32W27fvs2HH37Ihg0bcHZ2JjMzk9DQUB4/flyYcQohhChARfWC4FdJrmeZWlhY8P7773P48GHOnDnDqFGjmDFjBvb29rz11luFEaMQQogCJglRV76e0+rm5kZwcDA3b95k/fr1BRWTEEIIUeTydGP+04yNjenatStdu3YtiN0JIYQoZM96k70hK5CEKIQQ4tVSnLs+80oSohBCGCBpIOqShCiEEAaoOD+CLa8kIQohhAGSLlNd+ZplKoQQQhQX0kIUQggDJD2muiQhCiGEATIqxo9gyytJiEIIYYCkhahLEqIQQhggmVSjSxKiEEIYILntQpfMMhVCCCGQhCiEEAZJpcr7khsHDx6kc+fOODs7o1Kp2Lp1q9Z6Pz8/VCqV1tKhQwetOg8ePKBv375YWVlhY2PDwIEDiY+P16pz+vRpmjVrhpmZGeXLlyc4ODjX10QSohBCGCAjlSrPS24kJCTg4eHBokWLnlmnQ4cO3L59W7M8/fakvn37cu7cOUJDQ9m+fTsHDx7kgw8+0KyPi4ujffv2uLi4cOLECWbOnMmkSZNYtmxZrmKVMUQhhDBA+RlCTElJISUlRatMrVajVqt16np7e+Pt7f3c/anVahwdHbNdd+HCBXbt2sXx48dp0KABAAsWLKBjx458/fXXODs7ExISQmpqKitWrMDU1JQaNWoQERHB7NmztRLni0gLUQghDJBRPpagoCCsra21lqCgoDzHEhYWhr29PW5ubgwdOpT79+9r1oWHh2NjY6NJhgBt27bFyMiIY8eOaeo0b94cU1NTTR0vLy8iIyN5+PBhjuOQFqIQQhig/LwPMTAwkJEjR2qVZdc6zIkOHTrQvXt3XF1duXLlCuPGjcPb25vw8HCMjY2Jjo7G3t5ea5sSJUpgZ2dHdHQ0ANHR0bi6umrVcXBw0KyztbXNUSySEIUQQuTKs7pH86JXr16a/65Vqxa1a9emcuXKhIWF0aZNmwI5Rk5Jl6kQQhggVT6WwlSpUiXKlCnD5cuXAXB0dOTOnTtaddLT03nw4IFm3NHR0ZGYmBitOlmfnzU2mR1JiEIIYYCKapZpbt28eZP79+/j5OQEgKenJ48ePeLEiROaOvv37yczM5NGjRpp6hw8eJC0tDRNndDQUNzc3HLcXQqSEIUQwiAVVQsxPj6eiIgIIiIiALh27RoRERFERUURHx/PmDFjOHr0KNevX2ffvn106dKFKlWq4OXlBUD16tXp0KEDgwcP5o8//uD3339n2LBh9OrVC2dnZwD69OmDqakpAwcO5Ny5c/zwww/MmzdPZ5zzRWQMUQghDFBRPbntzz//pFWrVprPWUnK19eXJUuWcPr0aVavXs2jR49wdnamffv2TJ06VWuMMiQkhGHDhtGmTRuMjIzo0aMH8+fP16y3trZmz549+Pv7U79+fcqUKcOECRNydcsFgEpRFCWf5/vSSU7XdwTCUNg2HKbvEISBSDq5sED3t/7kv3netnfd1wowkpeHdJkKIYQQSJepEEIYJGkN6ZKEKIQQBig/N+YXV5IQhRDCAEk61CUJUQghDJC0EHVJQhRCCAMkY4i69JoQL1y4wIYNGzh06BA3btwgMTGRsmXLUrduXby8vOjRo0eBPS9PCCGEeB69/Ej466+/aNu2LXXr1uXw4cM0atSITz75hKlTp/Lee++hKAqff/45zs7OfPXVVzrv3RJCCJE/T7+lPjdLcaWXFmKPHj0YM2YMmzdvxsbG5pn1wsPDmTdvHrNmzWLcuHFFF6AQQhRzxTet5Z1eEuLff/+NiYnJC+t5enri6emp9cBWIYQQ+VeMG3p5ppeEmJNkmJ/6Qgghns9I2og6XtqJRjExMUyZMkXfYQghRLGkUuV9Ka5e2oQYHR3N5MmT9R2GEEIIA6G32y5Onz793PWRkZFFFIkQQhgelXSZ6tBbQqxTpw4qlYrs3j6VVV6cp/cKIYQ+yZ9XXXpLiHZ2dgQHB9OmTZts1587d47OnTsXcVRCCGEYZFKNLr0lxPr163Pr1i1cXFyyXf/o0aNsW49CCCHyT1qIuvSWEIcMGUJCQsIz11eoUIGVK1cWYURCCGE4JCHq0ltC7Nat23PX29ra4uvrW0TRCCGEMHTytgshhDBAMstUl17uQ5wxYwaJiYk5qnvs2DF27NhRyBEJIYRhMVLlfSmu9JIQz58/j4uLCx999BE7d+7k7t27mnXp6emcPn2axYsX8+abb9KzZ09KlSqljzCFEKLYUuXjf8WVXrpM16xZw6lTp1i4cCF9+vQhLi4OY2Nj1Gq1puVYt25dBg0ahJ+fH2ZmZvoIUwghii2ZVKNLpej53obMzExOnz7NjRs3SEpKokyZMtSpU4cyZcrkeZ/J6QUYoBDPYdtwmL5DEAYi6eTCAt3fb5H387xtK7fSBRjJy0Pvk2qMjIyoU6cOderU0XcoQghhMIpz12de6T0hiqKz/Ntv2Be6h2vXrqI2M6NOnbp8MnI0FV0raer8ExXFrK+/IuKvE6SmptKkaTM+Gzee0vlosYviZfA7TRn8djNcnO0AuHA1munLdrLn9/MAuJYrw4yAbnjWrYTapAShRy4w8qtN3HnwGIBm9auy57sR2e67ad9gTpyPQm1aggWf96Ju9QpUc3Vg56GzvDvy26I5QQNRnCfH5NVL+7YLUfD+PP4HPXv3Ze36jXzz7UrS09MZMnigZtw2MTGRIR+8j0ql4tsVq1n9/XrS0tIY7j+EzMxMPUcvXhb/xjxi/IKfebNvME36ziTsj7/ZNOcDqldypKSZKdsX+6MoCt4fLKD1gDmYmhjz47wPNc8mPnrqKhXbBmotK7b8zrWb9zhxPgoAYyMjklLSWLw+jP3H5EH/hUEm1eiShGhAlixbTpdu3alSpSpu1aox5csZ3L59iwvnzwEQcfIvbv37L1O/nEHV192o+robU6d/xflzZ/nj2FE9Ry9eFr8ePMvuw+e5EnWXy1F3mLToF+ITU3ijtiuedSrh4lyawRO/59zlW5y7fItBE9ZSz70CLd94HYC09Axi7j/WLPdjE+jUsjZrtv3vO5aYnMqI6T+w8qcjxNyP09epFmtF9T7EgwcP0rlzZ5ydnVGpVGzdulVrvaIoTJgwAScnJ8zNzWnbti2XLl3SqvPgwQP69u2LlZUVNjY2DBw4kPj4eK06p0+fplmzZpiZmVG+fHmCg4NzfU0kIRqw+MdPurCsrK0BSE1NRaVSYWpqqqmjVqsxMjLi5F8n9BKjeLkZGal4x6s+FuamHDt9DbVpCRRFISX1fzPbklPSycxUeLNO5Wz30alFbUpbW7D2Z/nRVZRU+VhyIyEhAQ8PDxYtWpTt+uDgYObPn8/SpUs5duwYFhYWeHl5kZycrKnTt29fzp07R2hoKNu3b+fgwYN88MEHmvVxcXG0b98eFxcXTpw4wcyZM5k0aRLLli3LVawyhmigMjMzCf5qOnXq1qNq1Se/3Gt71MHc3Jy5s2Yy/JORKIrCvDmzyMjI0LpXVIgaVZwJWz0KM9MSxCel0HPUt1y8Gs29h/EkJKXy5YguTFi4DRUqpo3oQokSxjiWscp2X75dPQkNv8C/dx4V7UmIIuHt7Y23t3e26xRFYe7cuXzxxRd06dIFeHJbnoODA1u3bqVXr15cuHCBXbt2cfz4cRo0aADAggUL6NixI19//TXOzs6EhISQmprKihUrMDU1pUaNGkRERDB79mytxPkiekmI3bt3z3HdLVu2PHd9SkoKKSkpWmWKsRq1Wp2n2AzF9GmTuXLpEqvWrtOU2dnZMXP2PL6cOol1IWsxMjKiQ0cfqrvXwEhG4MV//H09hka9grC2NKdb27p8O6Uf7QfN4+LVaPp+upz543ryUe8WZGYqbNx1gr/OR5GZzR1er9nb0M6zOu+NXaGHszBsRvm4ETG7v7tqde7/7l67do3o6Gjatm2rKbO2tqZRo0aEh4fTq1cvwsPDsbGx0SRDgLZt22JkZMSxY8fo1q0b4eHhNG/eXKt3y8vLi6+++oqHDx9ia2ubo3j0khCt/7+LriAEBQUxefJkrbLPx0/kiwmTCuwYxc30aVM4eCCMFau/x8HRUWvdm02asmPXXh4+fICxcQmsrKxo3bwJ5bw76ila8TJKS8/g6j/3ADh54R/q16iAf++WDP9yA/uOXqTGW5MpbWNBenomsfFJXAudzvXdut3u/bo05n5sAtsPnC7qUzB4+fmJm93f3YkTJzJp0qRc7Sc6OhoABwcHrXIHBwfNuujoaOzt7bXWlyhRAjs7O606rq6uOvvIWvdSJ8SCfK1TYGAgI0eO1CpTjKV1mB1FUQj6cir794WyfNVaypUr/8y6trZPptQfOxrOgwf3admqdVGFKV5BRioValPtPyf3Hz15vVuLhq9jb2fJ9gNndLbr/1Zj1m3/g/R0mcVc5PKREbP7u1sceuVe+THE7Jrp8qSa7E2fOpmdv25n7oLFWJS04N7/jwtaliqleTze1p9+pFKlytja2nHq1EmCg6bzXn8/rXsVhWGbMvwtdv9+jn9uP6SUhRk9vRvQvEFVOn+0GIB+bzUm8lo0dx/G06i2K1+PeZsFIb9x6cYdrf20fON1XMuVYeVPR7I9TrVKjpiWMMbW2oJSJdXUfv01AE7//W/hnqCByM/tE3npHs2O4//3UMXExODk5KQpj4mJ0TysxdHRkTt3tL876enpPHjwQLO9o6MjMTExWnWyPjs+1Qv2PC9FQty8eTMbN24kKiqK1NRUrXV//fWXnqIqfjb+sB6AgX79tMqnTAuiS7cn47rXr11j/pzZxMbG4vzaawz6YAj9fP2KOlTxEitrZ8nyqf1xLGNFbHwyZy/9S+ePFrP/2EUAXq9oz5Thb2FnXZIbtx4QvHw387/fr7Mfv65vEh5xhb+vx+isA9i6YCguzv97RNixHwIBMK8rj8srCC/Ds0xdXV1xdHRk3759mgQYFxfHsWPHGDp0KACenp48evSIEydOUL9+fQD2799PZmYmjRo10tT5/PPPSUtLw8TEBIDQ0FDc3Nxy3F0KL8GzTOfPn8/nn3+On58fy5YtY8CAAVy5coXjx4/j7+/Pl19+met9SgtRFBV5lqkoKgX9LNM/rsbmeds3KuV8Hkh8fDyXL18Gnry0Yfbs2bRq1Qo7OzsqVKjAV199xYwZM1i9ejWurq6MHz+e06dPc/78eU3Plbe3NzExMSxdupS0tDQGDBhAgwYNWLfuyaTA2NhY3NzcaN++PWPHjuXs2bO8//77zJkzJ1ezTPWeEKtVq8bEiRPp3bs3pUqV4tSpU1SqVIkJEybw4MEDFi7M/ZdAEqIoKpIQRVEp6IR4PB8JsWEuEmJYWBitWrXSKff19WXVqlUoisLEiRNZtmwZjx49omnTpixevJjXX39dU/fBgwcMGzaMX375BSMjI3r06MH8+fOxtLTU1Dl9+jT+/v4cP36cMmXKMHz4cMaOHZur89J7QixZsiQXLlzAxcUFe3t7QkND8fDw4NKlSzRu3Jj793P/RHZJiKKoSEIURaXAE+K1fCRE14K7U+Blovcn1Tg6OvLgwQMAKlSowNGjT55Wce3aNfScq4UQotiSZ5nq0ntCbN26Ndu2bQNgwIABBAQE0K5dO3r27Em3bt30HJ0QQhRPRfUs01eJ3meZLlu2TPMmBX9/f0qXLs2RI0d46623+PDDD/UcnRBCFE/FOK/lmd4TopGREUZG/2uo9urVi169eukxIiGEEIZI712mAIcOHeK9997D09OTf/99ctPt2rVrOXz4sJ4jE0KIYqqoXnfxCtF7Qvzxxx/x8vLC3NyckydPah4YGxsby/Tp0/UcnRBCFE8yqUaX3hPitGnTWLp0Kd9++63mCQMATZo0kafUCCFEIZFJNbr0PoYYGRlJ8+bNdcqtra159OhR0QckhBAGoBjntTzTewvR0dFR81if/zp8+DCVKskDpYUQolDIGKIOvSfEwYMHM2LECI4dO4ZKpeLWrVuEhIQwevRozcNdhRBCiMKm9y7Tzz77jMzMTNq0aUNiYiLNmzdHrVYzevRohg8fru/whBCiWCrOk2PySu/PMs2SmprK5cuXiY+Px93dHUtLS5KSkjA3N8/1vuRZpqKoyLNMRVEp6GeZnrkZn+dta5WzfHGlV5Deu0yzmJqa4u7uzhtvvIGJiQmzZ8/G1dVV32EJIUSxJEOIuvSWEFNSUggMDKRBgwa8+eabbN26FYCVK1fi6urKnDlzCAgI0Fd4QghRvElG1KG3McQJEybwzTff0LZtW44cOcI777zDgAEDOHr0KLNnz+add97B2NhYX+EJIUSxJmOIuvSWEDdt2sSaNWt46623OHv2LLVr1yY9PZ1Tp06hKs53fgohhHgp6S0h3rx5k/r16wNQs2ZN1Go1AQEBkgyFEKIIyJ9aXXpLiBkZGZiamv4vkBIlsLQsnjOXhBDiZSP5UJfeEqKiKPj5+aFWqwFITk5myJAhWFhYaNXbsmWLPsITQojiTTKiDr0lRF9fX63P7733np4iEUIIwyOTanTpLSGuXLlSX4cWQgiDJ2OIul6aG/OFEEIIfdL7s0yFEEIUPWkg6pKEKIQQhkgyog5JiEIIYYBkUo0uSYhCCGGAZFKNLkmIQghhgCQf6pJZpkIIIQSSEIUQwjAV0eufJk2ahEql0lqqVaumWZ+cnIy/vz+lS5fG0tKSHj16EBMTo7WPqKgofHx8KFmyJPb29owZM4b09IJ/E7x0mQohhAEqykk1NWrUYO/evZrPJUr8L/UEBASwY8cONm3ahLW1NcOGDaN79+78/vvvwJPnXvv4+ODo6MiRI0e4ffs2/fv3x8TEhOnTpxdonJIQhRDCABXlpJoSJUrg6OioUx4bG8vy5ctZt24drVu3Bp48xax69eocPXqUxo0bs2fPHs6fP8/evXtxcHCgTp06TJ06lbFjxzJp0iStl0Tkl3SZCiGEAcpPj2lKSgpxcXFaS0pKyjOPdenSJZydnalUqRJ9+/YlKioKgBMnTpCWlkbbtm01datVq0aFChUIDw8HIDw8nFq1auHg4KCp4+XlRVxcHOfOnSuoywFIQhRCCMOUj4wYFBSEtbW11hIUFJTtYRo1asSqVavYtWsXS5Ys4dq1azRr1ozHjx8THR2NqakpNjY2Wts4ODgQHR0NQHR0tFYyzFqfta4gSZepEEKIXAkMDGTkyJFaZVmv8nuat7e35r9r165No0aNcHFxYePGjZibmxdqnLklLUQhhDBAqnz8T61WY2VlpbU8KyE+zcbGhtdff53Lly/j6OhIamoqjx490qoTExOjGXN0dHTUmXWa9Tm7ccn8kIQohBAGSKXK+5If8fHxXLlyBScnJ+rXr4+JiQn79u3TrI+MjCQqKgpPT08APD09OXPmDHfu3NHUCQ0NxcrKCnd39/wF8xTpMhVCCANUVJNMR48eTefOnXFxceHWrVtMnDgRY2NjevfujbW1NQMHDmTkyJHY2dlhZWXF8OHD8fT0pHHjxgC0b98ed3d3+vXrR3BwMNHR0XzxxRf4+/vnuFWaU5IQhRDCABXVbRc3b96kd+/e3L9/n7Jly9K0aVOOHj1K2bJlAZgzZw5GRkb06NGDlJQUvLy8WLx4sWZ7Y2Njtm/fztChQ/H09MTCwgJfX1+mTJlS4LGqFEVRCnyvepZc8A8wECJbtg2H6TsEYSCSTi4s0P3dfJia523L2RbcvX8vExlDFEIIIZAuUyGEMEjy+iddkhCFEMIAST7UJQlRCCEMkLQQdUlCFEIIA1SUb7t4VUhCFEIIQyT5UIfMMhVCCCGQFqIQQhgkaSDqkoQohBAGSCbV6JKEKIQQBkgm1eiShCiEEIZI8qEOSYhCCGGAJB/qklmmQgghBNJCFEIIgySTanRJQhRCCAMkk2p0SUIUQggDJC1EXTKGKIQQQiAtRCGEMEjSQtQlLUQhhBACaSEKIYRBkkk1uiQhCiGEAZIuU12SEIUQwgBJPtQlCVEIIQyRZEQdMqlGCCGEQFqIQghhkGRSjS5JiEIIYYBkUo0uSYhCCGGAJB/qkoQohBCGSDKiDkmIQghhgGQMUZfMMhVCCCGQFqIQQhgkmVSjS6UoiqLvIIT+paSkEBQURGBgIGq1Wt/hiGJMvmviZSUJUQAQFxeHtbU1sbGxWFlZ6TscUYzJd028rGQMUQghhEASohBCCAFIQhRCCCEASYji/6nVaiZOnCiTHEShk++aeFnJpBohhBACaSEKIYQQgCREIYQQApCEKIQQQgCSEIUQQghAEmKxtmrVKmxsbAp8v5GRkTg6OvL48eMcb/PZZ58xfPjwAo9FvJr8/Pzo2rXrC+v169eP6dOn53i/qampVKxYkT///DMf0QlDJQnxJefn54dKpdJZLl++rLeYAgMDGT58OKVKldKUnT59mmbNmmFmZkb58uUJDg7W2mb06NGsXr2aq1evFnW4Ihf++30zMTHB1dWVTz/9lOTk5CKP5dSpU/z66698/PHHmrItW7bQvn17SpcujUqlIiIiQmsbU1NTRo8ezdixY4s4WlEcSEJ8BXTo0IHbt29rLa6urnqJJSoqiu3bt+Pn56cpi4uLo3379ri4uHDixAlmzpzJpEmTWLZsmaZOmTJl8PLyYsmSJXqIWuRG1vft6tWrzJkzh2+++YaJEycWeRwLFizgnXfewdLSUlOWkJBA06ZN+eqrr565Xd++fTl8+DDnzp0rijBFMSIJ8RWgVqtxdHTUWoyNjZk9eza1atXCwsKC8uXL89FHHxEfH//M/dy9e5cGDRrQrVs3UlJSyMzMJCgoCFdXV8zNzfHw8GDz5s3PjWXjxo14eHjw2muvacpCQkJITU1lxYoV1KhRg169evHxxx8ze/ZsrW07d+7Mhg0b8ncxRKHL+r6VL1+erl270rZtW0JDQzXrX/S9ycjIYODAgZr1bm5uzJs3L1cxZGRksHnzZjp37qxV3q9fPyZMmEDbtm2fua2trS1NmjSR75rINUmIrzAjIyPmz5/PuXPnWL16Nfv37+fTTz/Ntu4///xDs2bNqFmzJps3b0atVhMUFMSaNWtYunQp586dIyAggPfee48DBw4885iHDh2iQYMGWmXh4eE0b94cU1NTTZmXlxeRkZE8fPhQU/bGG29w8+ZNrl+/nr8TF0Xm7NmzHDlyROvf9kXfm8zMTMqVK8emTZs4f/48EyZMYNy4cWzcuDHHxz19+jSxsbE637WceuONNzh06FCethWGS14Q/ArYvn27VreRt7c3mzZt4pNPPtGUVaxYkWnTpjFkyBAWL16stX1kZCTt2rWjW7duzJ07F5VKRUpKCtOnT2fv3r14enoCUKlSJQ4fPsw333xDixYtso3lxo0bOn+koqOjdbpwHRwcNOtsbW0BcHZ21uyjYsWKub8Qokhkfd/S09NJSUnByMiIhQsXAuToe2NiYsLkyZM1+3N1dSU8PJyNGzfy7rvv5iiGGzduYGxsjL29fZ7OwdnZmRs3buRpW2G4JCG+Alq1aqU19mZhYQHA3r17CQoK4uLFi8TFxZGenk5ycjKJiYmULFkSgKSkJJo1a0afPn2YO3euZh+XL18mMTGRdu3aaR0rNTWVunXrPjOWpKQkzMzM8nQe5ubmACQmJuZpe1E0sr5vCQkJzJkzhxIlStCjRw8g59+bRYsWsWLFCqKiokhKSiI1NZU6derkOIakpCTUajWqPL7W3dzcXL5nItckIb4CLCwsqFKlilbZ9evX6dSpE0OHDuXLL7/Ezs6Ow4cPM3DgQFJTUzUJUa1W07ZtW7Zv386YMWM0Y39ZY407duzQGg/M2uZZypQpo9UNCuDo6EhMTIxWWdZnR0dHTdmDBw8AKFu2bI7PXRS9/37fVqxYgYeHB8uXL2fgwIE5+t5s2LCB0aNHM2vWLDw9PSlVqhQzZ87k2LFjOY6hTJkyJCYmkpqaqtVdm1MPHjyQ75nINUmIr6gTJ06QmZnJrFmzMDJ6MhSc3RiNkZERa9eupU+fPrRq1YqwsDCcnZ1xd3dHrVYTFRX1zO7R7NStW5fz589rlXl6evL555+TlpaGiYkJAKGhobi5uWm6S+HJeJSJiQk1atTIyykLPTAyMmLcuHGMHDmSPn365Oh78/vvv/Pmm2/y0UcfacquXLmSq+NmtSbPnz+fq5ZllrNnzz63p0OI7MikmldUlSpVSEtLY8GCBVy9epW1a9eydOnSbOsaGxsTEhKCh4cHrVu3Jjo6mlKlSjF69GgCAgJYvXo1V65c4a+//mLBggWsXr36mcf18vIiPDycjIwMTVmfPn0wNTVl4MCBnDt3jh9++IF58+YxcuRIrW0PHTpEs2bNNF2n4tXwzjvvYGxszKJFi3L0valatSp//vknu3fv5u+//2b8+PEcP348V8csW7Ys9erV4/Dhw1rlDx48ICIiQvOjLDIykoiICKKjo7XqHTp0iPbt2+fjrIVBUsRLzdfXV+nSpUu262bPnq04OTkp5ubmipeXl7JmzRoFUB4+fKgoiqKsXLlSsba21tRPS0tTunfvrlSvXl2JiYlRMjMzlblz5ypubm6KiYmJUrZsWcXLy0s5cODAM+NJS0tTnJ2dlV27dmmVnzp1SmnatKmiVquV1157TZkxY4bOtm5ubsr69etzfQ1E0XnW9y0oKEgpW7asEh8f/8LvTXJysuLn56dYW1srNjY2ytChQ5XPPvtM8fDweOFx/mvx4sVK48aNtcpWrlypADrLxIkTNXWOHDmi2NjYKImJiXm9DMJAyfsQRa4tWrSIbdu2sXv37hxvs3PnTkaNGsXp06cpUUJ66sWLJSUl4ebmxg8//KCZ0ZoTPXv2xMPDg3HjxhVidKI4kr9MItc+/PBDHj16xOPHj7Ue3/Y8CQkJrFy5UpKhyDFzc3PWrFnDvXv3crxNamoqtWrVIiAgoBAjE8WVtBCFEEIIZFKNEEIIAUhCFEIIIQBJiEIIIQQgCVEIIYQAJCEKIYQQgCREIXLMz8+Prl27aj63bNlS640jRSUsLAyVSsWjR4+K/NhCFGeSEMUrz8/PD5VKhUqlwtTUlCpVqjBlyhTS09ML9bhbtmxh6tSpOaorSUyIl5/cJS2KhQ4dOrBy5UpSUlL49ddf8ff3x8TEhMDAQK16eX17Qnbs7OwKZD9CiJeDtBBFsaBWq3F0dMTFxYWhQ4fStm1btm3bpunm/PLLL3F2dsbNzQ2Af/75h3fffRcbGxvs7Ozo0qUL169f1+wvIyODkSNHYmNjQ+nSpfn00095+hkWT3eZpqSkMHbsWMqXL49araZKlSosX76c69ev06pVKwBsbW1RqVT4+fkBT94uHxQUhKurK+bm5nh4eLB582at4/z666+8/vrrmJub06pVK604hRAFRxKiKJbMzc1JTU0FYN++fURGRhIaGsr27dtJS0vDy8uLUqVKcejQIX7//XcsLS3p0KGDZptZs2axatUqVqxYweHDh3nw4AE//fTTc4/Zv39/1q9fz/z587lw4QLffPMNlpaWlC9fnh9//BF48naG27dvM2/ePACCgoJYs2YNS5cu5dy5cwQEBPDee+9x4MAB4Eni7t69O507dyYiIoJBgwbx2WefFdZlE8Kw6fXR4kIUgP++OSEzM1MJDQ1V1Gq1Mnr0aMXX11dxcHBQUlJSNPXXrl2ruLm5KZmZmZqylJQUxdzcXNm9e7eiKIri5OSkBAcHa9anpaUp5cqV03pDQ4sWLZQRI0YoiqIokZGRCqCEhoZmG+Nvv/2m9SYSRXnyVoiSJUsqR44c0ao7cOBApXfv3oqiKEpgYKDi7u6utX7s2LE6+xJC5J+MIYpiYfv27VhaWpKWlkZmZiZ9+vRh0qRJ+Pv7U6tWLa1xw1OnTnH58mWdB5MnJydz5coVYmNjuX37No0aNdKsK1GiBA0aNNDpNs0SERGBsbFxrl62fPnyZRITE2nXrp1WeWpqqublthcuXNCKA8jVmx+EEDknCVEUC61atWLJkiWYmpri7Oys9VYNCwsLrbrx8fHUr1+fkJAQnf2ULVs2T8fPy0uP4+PjAdixYwevvfaa1jq1Wp2nOIQQeScJURQLFhYWVKlSJUd169Wrxw8//IC9vT1WVlbZ1nFycuLYsWM0b94cgPT0dE6cOEG9evWyrV+rVi0yMzM5cOAAbdu21Vmf1ULNyMjQlLm7u6NWq4mKinpmy7J69eps27ZNq+zo0aMvPkkhRK7JpBphcPr27UuZMmXo0qULhw4d4tq1a4SFhfHxxx9z8+ZNAEaMGMGMGTPYunUrFy9e5KOPPnruPYQVK1bE19eX999/n61bt2r2uXHjRgBcXFxQqVRs376du3fvEh8fT6lSpRg9ejQBAQGsXr2aK1eu8Ndff7FgwQJWr14NwJAhQ7h06RJjxowhMjKSdevWsWrVqsK+REIYJEmIwuCULFmSgwcPUqFCBbp370716tUZOHAgycnJmhbjqFGj6NevH76+vnh6elKqVCm6dev23P0uWbKEt99+m48++ohq1aoxePBgEhISAHjttdeYPHkyn332GQ4ODgwbNgyAqVOnMn78eIKCgqhevTodOnRgx44duLq6AlChQgV+/PFHtm7dioeHB0uXLmX69OmFeHWEMFzygmAhhBACaSEKIYQQgCREIYQQApCEKIQQQgCSEIUQQghAEqIQQggBSEIUQgghAEmIQgghBCAJUQghhAAkIQohhBCAJEQhhBACkIQohBBCAPB/L27pXgnbfNcAAAAASUVORK5CYII=\n"
=======
            "image/png": "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\n"
>>>>>>> e55c210 (added updated files)
          },
          "metadata": {}
        },
        {
          "output_type": "display_data",
          "data": {
            "text/plain": [
              "<Figure size 500x400 with 2 Axes>"
            ],
<<<<<<< HEAD
            "image/png": "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\n"
=======
            "image/png": "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\n"
>>>>>>> e55c210 (added updated files)
          },
          "metadata": {}
        }
      ]
    },
    {
      "cell_type": "markdown",
      "source": [
        "## Saving the SVM model"
      ],
      "metadata": {
        "id": "hV8DgbAKKYU7"
      },
      "id": "hV8DgbAKKYU7"
    },
    {
      "cell_type": "code",
      "source": [
        "import joblib\n",
        "\n",
        "# Save the trained SVM model\n",
        "joblib.dump(svm_clf, \"fake_news_svm_model.pkl\")\n",
        "\n",
        "# Save the TF-IDF vectorizer as well\n",
        "joblib.dump(tfidf_vectorizer, \"tfidf_vectorizer.pkl\")\n",
        "\n",
        "print(\"Model and vectorizer saved successfully!\")\n"
      ],
      "metadata": {
        "colab": {
          "base_uri": "https://localhost:8080/"
        },
        "id": "VItzkrqHKb4w",
<<<<<<< HEAD
        "outputId": "c02d1a22-afca-42be-f30e-26edcd6beeaa"
      },
      "id": "VItzkrqHKb4w",
      "execution_count": 22,
=======
        "outputId": "828e3775-6d94-4b6d-e671-d5b15224e581"
      },
      "id": "VItzkrqHKb4w",
      "execution_count": null,
>>>>>>> e55c210 (added updated files)
      "outputs": [
        {
          "output_type": "stream",
          "name": "stdout",
          "text": [
            "Model and vectorizer saved successfully!\n"
          ]
        }
      ]
    },
    {
      "cell_type": "markdown",
      "source": [
<<<<<<< HEAD
        "## Validation dataset"
=======
        "# Validation dataset"
>>>>>>> e55c210 (added updated files)
      ],
      "metadata": {
        "id": "zJIfxcQYLGTs"
      },
      "id": "zJIfxcQYLGTs"
    },
    {
      "cell_type": "code",
      "source": [
        "val_data_path = '/content/drive/MyDrive/Ironhack Assignments/NLP Project/dataset/validation_data.csv'\n",
        "validation_data = pd.read_csv(val_data_path)"
      ],
      "metadata": {
        "id": "jNSx4GodLIUo"
      },
      "id": "jNSx4GodLIUo",
<<<<<<< HEAD
      "execution_count": 23,
=======
      "execution_count": null,
>>>>>>> e55c210 (added updated files)
      "outputs": []
    },
    {
      "cell_type": "markdown",
      "source": [
<<<<<<< HEAD
        "## Data Preprocessing1"
      ],
      "metadata": {
        "id": "9EVg44BdLio3"
      },
      "id": "9EVg44BdLio3"
=======
        "## Preprocessing the validation data"
      ],
      "metadata": {
        "id": "_DNllraXpdm_"
      },
      "id": "_DNllraXpdm_"
>>>>>>> e55c210 (added updated files)
    },
    {
      "cell_type": "code",
      "source": [
<<<<<<< HEAD
        "validation_data['combined_text'] = validation_data['text'] + validation_data['title']"
      ],
      "metadata": {
        "id": "UTs5-vloLlKL"
      },
      "id": "UTs5-vloLlKL",
      "execution_count": 26,
=======
        "X_val_tfidf = preprocess_and_vectorize(validation_data, tfidf_vectorizer)"
      ],
      "metadata": {
        "id": "xY1Xqqlboiq8"
      },
      "id": "xY1Xqqlboiq8",
      "execution_count": null,
>>>>>>> e55c210 (added updated files)
      "outputs": []
    },
    {
      "cell_type": "markdown",
      "source": [
<<<<<<< HEAD
        "## Data Preprocessing 2"
      ],
      "metadata": {
        "id": "B4zrC-G4NG3e"
      },
      "id": "B4zrC-G4NG3e"
=======
        "## Predicting using the saved SVM model"
      ],
      "metadata": {
        "id": "bpdPu044t4kL"
      },
      "id": "bpdPu044t4kL"
>>>>>>> e55c210 (added updated files)
    },
    {
      "cell_type": "code",
      "source": [
<<<<<<< HEAD
        "val_combined_text_clean = validation_data['combined_text'].apply(preprocess_text)"
      ],
      "metadata": {
        "id": "3r2_vZRfLujm"
      },
      "id": "3r2_vZRfLujm",
      "execution_count": 27,
=======
        "y_val_pred = svm_clf.predict(X_val_tfidf)"
      ],
      "metadata": {
        "id": "QFatgkurt0Hk"
      },
      "id": "QFatgkurt0Hk",
      "execution_count": null,
>>>>>>> e55c210 (added updated files)
      "outputs": []
    },
    {
      "cell_type": "markdown",
      "source": [
<<<<<<< HEAD
        "## NLP Data Processing"
      ],
      "metadata": {
        "id": "raGVE_HQNun8"
      },
      "id": "raGVE_HQNun8"
=======
        "## Overwriting label column in original validation_data\n"
      ],
      "metadata": {
        "id": "U9ONsiXHuBYF"
      },
      "id": "U9ONsiXHuBYF"
>>>>>>> e55c210 (added updated files)
    },
    {
      "cell_type": "code",
      "source": [
<<<<<<< HEAD
        "val_combined_text_clean2 = val_combined_text_clean.apply(nlp_preprocess_text)\n"
      ],
      "metadata": {
        "id": "CRTxRPhLNvjX"
      },
      "id": "CRTxRPhLNvjX",
      "execution_count": 28,
=======
        "validation_data['label'] = y_val_pred"
      ],
      "metadata": {
        "id": "Qs8UDhNZuA-8"
      },
      "id": "Qs8UDhNZuA-8",
      "execution_count": null,
>>>>>>> e55c210 (added updated files)
      "outputs": []
    },
    {
      "cell_type": "markdown",
      "source": [
<<<<<<< HEAD
        "## Loading the model"
      ],
      "metadata": {
        "id": "l6m-Zr8OZN6h"
      },
      "id": "l6m-Zr8OZN6h"
=======
        "## Keeping original column order"
      ],
      "metadata": {
        "id": "8IrinoIKuG-N"
      },
      "id": "8IrinoIKuG-N"
>>>>>>> e55c210 (added updated files)
    },
    {
      "cell_type": "code",
      "source": [
<<<<<<< HEAD
        "svm_loaded = joblib.load(\"fake_news_svm_model.pkl\")\n",
        "tfidf_loaded = joblib.load(\"tfidf_vectorizer.pkl\")"
      ],
      "metadata": {
        "id": "jNT9Qla6ZQJv"
      },
      "id": "jNT9Qla6ZQJv",
      "execution_count": 29,
      "outputs": []
    },
    {
      "cell_type": "markdown",
      "source": [
        "## Vectorization - TF - IDF"
      ],
      "metadata": {
        "id": "jsrONrrTOev7"
      },
      "id": "jsrONrrTOev7"
    },
    {
      "cell_type": "code",
      "source": [
        "X_val_tfidf = val_combined_text_clean2.apply(lambda toks: \" \".join(toks))\n",
        "X_val_tfidf = tfidf_loaded.transform(X_val_tfidf)"
      ],
      "metadata": {
        "id": "vJd3JWvJOhc9"
      },
      "id": "vJd3JWvJOhc9",
      "execution_count": 30,
      "outputs": []
    },
    {
      "cell_type": "markdown",
      "source": [
        "## Prediction of label using validation data"
      ],
      "metadata": {
        "id": "cvCfhc1ISsyd"
      },
      "id": "cvCfhc1ISsyd"
    },
    {
      "cell_type": "code",
      "source": [
        "validation_data['label'] = svm_loaded.predict(X_val_tfidf)"
      ],
      "metadata": {
        "id": "ogZMYhUrRXIN"
      },
      "id": "ogZMYhUrRXIN",
      "execution_count": 31,
      "outputs": []
    },
    {
      "cell_type": "code",
      "source": [
        "validation_data_final = validation_data[['label', 'title', 'text', 'subject', 'date']]\n"
      ],
      "metadata": {
        "id": "L4mdpOEuZcGM"
      },
      "id": "L4mdpOEuZcGM",
      "execution_count": 32,
=======
        "validation_data_final = validation_data[['label', 'title', 'text', 'subject', 'date']]"
      ],
      "metadata": {
        "id": "YHFgDZiauHdR"
      },
      "id": "YHFgDZiauHdR",
      "execution_count": null,
>>>>>>> e55c210 (added updated files)
      "outputs": []
    },
    {
      "cell_type": "markdown",
      "source": [
        "## Saving to csv"
      ],
      "metadata": {
        "id": "EJSB3il_SnW9"
      },
      "id": "EJSB3il_SnW9"
    },
    {
      "cell_type": "code",
      "source": [
        "validation_data_final.to_csv(\"validation_data_predicted.csv\", index=False)\n",
<<<<<<< HEAD
        "\n",
=======
>>>>>>> e55c210 (added updated files)
        "print(\"Predictions saved to validation_data_predicted.csv\")"
      ],
      "metadata": {
        "colab": {
          "base_uri": "https://localhost:8080/"
        },
<<<<<<< HEAD
        "id": "z5YBrgHgSWvP",
        "outputId": "5fd998cf-550a-448c-801f-05ea286af410"
      },
      "id": "z5YBrgHgSWvP",
      "execution_count": 33,
=======
        "id": "_elw7e-ft8ba",
        "outputId": "d287a74a-fb09-48b6-8c51-a6ca71995413"
      },
      "id": "_elw7e-ft8ba",
      "execution_count": null,
>>>>>>> e55c210 (added updated files)
      "outputs": [
        {
          "output_type": "stream",
          "name": "stdout",
          "text": [
            "Predictions saved to validation_data_predicted.csv\n"
          ]
        }
      ]
<<<<<<< HEAD
=======
    },
    {
      "cell_type": "markdown",
      "source": [
        "----------------------------------------------------------------"
      ],
      "metadata": {
        "id": "qNCTCTV38aOm"
      },
      "id": "qNCTCTV38aOm"
    },
    {
      "cell_type": "markdown",
      "source": [
        "# Streamlit"
      ],
      "metadata": {
        "id": "a1RyU6ou8cyL"
      },
      "id": "a1RyU6ou8cyL"
    },
    {
      "cell_type": "markdown",
      "source": [
        "Run app.py"
      ],
      "metadata": {
        "id": "gDiJHyyA2FIo"
      },
      "id": "gDiJHyyA2FIo"
>>>>>>> e55c210 (added updated files)
    }
  ],
  "metadata": {
    "kernelspec": {
      "display_name": "Python 3",
      "name": "python3"
    },
    "language_info": {
      "codemirror_mode": {
        "name": "ipython",
        "version": 3
      },
      "file_extension": ".py",
      "mimetype": "text/x-python",
      "name": "python",
      "nbconvert_exporter": "python",
      "pygments_lexer": "ipython3",
      "version": "3.10.18"
    },
    "colab": {
      "provenance": [],
      "gpuType": "T4"
    },
    "accelerator": "GPU"
  },
  "nbformat": 4,
  "nbformat_minor": 5
}